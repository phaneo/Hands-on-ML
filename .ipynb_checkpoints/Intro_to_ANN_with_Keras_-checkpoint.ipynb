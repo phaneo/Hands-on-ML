{
 "cells": [
  {
   "cell_type": "markdown",
   "metadata": {
    "colab_type": "text",
    "id": "view-in-github"
   },
   "source": [
    "<a href=\"https://colab.research.google.com/github/phaneo/Hands-on-ML/blob/main/Intro_to_ANN_with_Keras_.ipynb\" target=\"_parent\"><img src=\"https://colab.research.google.com/assets/colab-badge.svg\" alt=\"Open In Colab\"/></a>"
   ]
  },
  {
   "cell_type": "markdown",
   "metadata": {
    "id": "__Y8bw2FueCY"
   },
   "source": [
    "# **Perceptrons**"
   ]
  },
  {
   "cell_type": "code",
   "execution_count": 1,
   "metadata": {
    "id": "dCYv7pKktO5L"
   },
   "outputs": [
    {
     "name": "stderr",
     "output_type": "stream",
     "text": [
      "/tmp/ipykernel_82/1529301813.py:7: DeprecationWarning: `np.int` is a deprecated alias for the builtin `int`. To silence this warning, use `int` by itself. Doing this will not modify any behavior and is safe. When replacing `np.int`, you may wish to use e.g. `np.int64` or `np.int32` to specify the precision. If you wish to review your current use, check the release note link for additional information.\n",
      "Deprecated in NumPy 1.20; for more details and guidance: https://numpy.org/devdocs/release/1.20.0-notes.html#deprecations\n",
      "  y = (iris.target ==0).astype(np.int)\n"
     ]
    }
   ],
   "source": [
    "import numpy as np\n",
    "from sklearn.datasets import load_iris\n",
    "from sklearn.linear_model import Perceptron\n",
    "\n",
    "iris = load_iris()\n",
    "X= iris.data[:, (2, 3)]\n",
    "y = (iris.target ==0).astype(np.int)\n",
    "\n",
    "per_clf = Perceptron()\n",
    "per_clf.fit(X, y)\n",
    "y_pred = per_clf.predict([[2, 0.5]])\n"
   ]
  },
  {
   "cell_type": "code",
   "execution_count": 2,
   "metadata": {
    "colab": {
     "base_uri": "https://localhost:8080/",
     "height": 35
    },
    "id": "W33XGkvguNHZ",
    "outputId": "f12c2cd7-be93-414f-fae5-cc5d75926322"
   },
   "outputs": [
    {
     "data": {
      "text/plain": [
       "'2.4.3'"
      ]
     },
     "execution_count": 2,
     "metadata": {},
     "output_type": "execute_result"
    }
   ],
   "source": [
    "import tensorflow as tf\n",
    "from tensorflow import keras\n",
    "\n",
    "tf.__version__"
   ]
  },
  {
   "cell_type": "code",
   "execution_count": 3,
   "metadata": {
    "colab": {
     "base_uri": "https://localhost:8080/",
     "height": 35
    },
    "id": "MhzPnw_OIJA1",
    "outputId": "d634f0c6-dc05-4e24-8e6f-4f22fd27d798"
   },
   "outputs": [
    {
     "data": {
      "text/plain": [
       "'2.4.0'"
      ]
     },
     "execution_count": 3,
     "metadata": {},
     "output_type": "execute_result"
    }
   ],
   "source": [
    "keras.__version__"
   ]
  },
  {
   "cell_type": "code",
   "execution_count": 4,
   "metadata": {
    "id": "Rlkx3e-2ILoG"
   },
   "outputs": [],
   "source": [
    "fashion_mnist = keras.datasets.fashion_mnist\n",
    "(X_train_full, y_train_full), (X_test, y_test) = fashion_mnist.load_data()"
   ]
  },
  {
   "cell_type": "code",
   "execution_count": 5,
   "metadata": {
    "id": "pGfs6F_WI19P"
   },
   "outputs": [],
   "source": [
    "X_valid, X_train = X_train_full[:5000] / 255., X_train_full[5000:] / 255.\n",
    "y_valid, y_train = y_train_full[:5000] , y_train_full[5000:]\n",
    "X_test = X_test/255."
   ]
  },
  {
   "cell_type": "code",
   "execution_count": 6,
   "metadata": {
    "colab": {
     "base_uri": "https://localhost:8080/",
     "height": 266
    },
    "id": "rVvZV9OVESBY",
    "outputId": "d65e753d-0ab6-44ec-d9d5-8490b38edc42"
   },
   "outputs": [
    {
     "data": {
      "text/plain": [
       "(-0.5, 27.5, 27.5, -0.5)"
      ]
     },
     "execution_count": 6,
     "metadata": {},
     "output_type": "execute_result"
    },
    {
     "data": {
      "image/png": "[encoded data removed]",
      "text/plain": [
       "<Figure size 432x288 with 1 Axes>"
      ]
     },
     "metadata": {
      "needs_background": "light"
     },
     "output_type": "display_data"
    }
   ],
   "source": [
    "import matplotlib.pyplot as plt\n",
    "plt.imshow(X_train[0], cmap='binary')\n",
    "plt.axis(\"off\")"
   ]
  },
  {
   "cell_type": "code",
   "execution_count": 7,
   "metadata": {
    "colab": {
     "base_uri": "https://localhost:8080/"
    },
    "id": "jylVcfonEbXQ",
    "outputId": "d285a3ba-47c2-4a52-a900-277514dc1cb1"
   },
   "outputs": [
    {
     "data": {
      "text/plain": [
       "array([4, 0, 7, ..., 3, 0, 5], dtype=uint8)"
      ]
     },
     "execution_count": 7,
     "metadata": {},
     "output_type": "execute_result"
    }
   ],
   "source": [
    "y_train"
   ]
  },
  {
   "cell_type": "code",
   "execution_count": 8,
   "metadata": {
    "id": "YPDLc7r3J57k"
   },
   "outputs": [
    {
     "name": "stderr",
     "output_type": "stream",
     "text": [
      "2021-12-31 11:32:36.398120: I tensorflow/core/platform/cpu_feature_guard.cc:142] This TensorFlow binary is optimized with oneAPI Deep Neural Network Library (oneDNN) to use the following CPU instructions in performance-critical operations:  SSE4.1 SSE4.2 AVX AVX2 AVX512F FMA\n",
      "To enable them in other operations, rebuild TensorFlow with the appropriate compiler flags.\n"
     ]
    }
   ],
   "source": [
    "model = keras.models.Sequential()\n",
    "model.add(keras.layers.Flatten(input_shape=[28, 28]))\n",
    "model.add(keras.layers.Dense(300, activation=\"relu\"))\n",
    "model.add(keras.layers.Dense(100, activation=\"relu\"))\n",
    "model.add(keras.layers.Dense(10, activation=\"softmax\"))\n"
   ]
  },
  {
   "cell_type": "markdown",
   "metadata": {
    "id": "q2YFk14qsDcQ"
   },
   "source": [
    "We can also pass a list of layers when creating a Sequential model:\n",
    "\n",
    "```\n",
    "model = keras.models.Sequential([\n",
    "                                 keras.layers.Flatten(input_shape=[28,28]),\n",
    "                                 keras.layers.Dense(300, activation=\"relu\"),\n",
    "                                 keras.layers.Dense(100, activation=\"relu\"),\n",
    "                                 keras.layers.Dense(10, activation=\"softmax\")\n",
    "])\n",
    "```\n",
    "\n"
   ]
  },
  {
   "cell_type": "code",
   "execution_count": 9,
   "metadata": {
    "colab": {
     "base_uri": "https://localhost:8080/"
    },
    "id": "UjXkcfnnsdRZ",
    "outputId": "f29d8b42-94b9-4657-a4cd-90c5f59e5159"
   },
   "outputs": [
    {
     "name": "stdout",
     "output_type": "stream",
     "text": [
      "Model: \"sequential\"\n",
      "_________________________________________________________________\n",
      "Layer (type)                 Output Shape              Param #   \n",
      "=================================================================\n",
      "flatten (Flatten)            (None, 784)               0         \n",
      "_________________________________________________________________\n",
      "dense (Dense)                (None, 300)               235500    \n",
      "_________________________________________________________________\n",
      "dense_1 (Dense)              (None, 100)               30100     \n",
      "_________________________________________________________________\n",
      "dense_2 (Dense)              (None, 10)                1010      \n",
      "=================================================================\n",
      "Total params: 266,610\n",
      "Trainable params: 266,610\n",
      "Non-trainable params: 0\n",
      "_________________________________________________________________\n"
     ]
    }
   ],
   "source": [
    "model.summary()"
   ]
  },
  {
   "cell_type": "code",
   "execution_count": 10,
   "metadata": {
    "colab": {
     "base_uri": "https://localhost:8080/",
     "height": 533
    },
    "id": "oeLRDuOnsy-4",
    "outputId": "3fdd7692-b7e4-4686-fa83-359bb9e6cbd3"
   },
   "outputs": [
    {
     "name": "stdout",
     "output_type": "stream",
     "text": [
      "('Failed to import pydot. You must `pip install pydot` and install graphviz (https://graphviz.gitlab.io/download/), ', 'for `pydotprint` to work.')\n"
     ]
    }
   ],
   "source": [
    "keras.utils.plot_model(model, show_shapes=True, show_dtype=True, show_layer_names=True)"
   ]
  },
  {
   "cell_type": "code",
   "execution_count": 11,
   "metadata": {
    "id": "LLtMyp1ctYDU"
   },
   "outputs": [],
   "source": [
    "model.compile(loss =\"sparse_categorical_crossentropy\",\n",
    "            optimizer = keras.optimizers.SGD(learning_rate=0.03),\n",
    "              metrics= [\"accuracy\"]\n",
    "              )"
   ]
  },
  {
   "cell_type": "code",
   "execution_count": 12,
   "metadata": {
    "colab": {
     "base_uri": "https://localhost:8080/"
    },
    "id": "sL8D8D5WurRh",
    "outputId": "b5ddf5ad-cd08-42f7-d249-e017c554ade5"
   },
   "outputs": [
    {
     "name": "stderr",
     "output_type": "stream",
     "text": [
      "2021-12-31 11:32:36.751614: I tensorflow/compiler/mlir/mlir_graph_optimization_pass.cc:116] None of the MLIR optimization passes are enabled (registered 2)\n",
      "2021-12-31 11:32:36.759284: I tensorflow/core/platform/profile_utils/cpu_utils.cc:112] CPU Frequency: 2500000000 Hz\n"
     ]
    },
    {
     "name": "stdout",
     "output_type": "stream",
     "text": [
      "Epoch 1/30\n",
      "1719/1719 [==============================] - 4s 2ms/step - loss: 0.7756 - accuracy: 0.7377 - val_loss: 0.4757 - val_accuracy: 0.8312\n",
      "Epoch 2/30\n",
      "1719/1719 [==============================] - 3s 2ms/step - loss: 0.4367 - accuracy: 0.8433 - val_loss: 0.3772 - val_accuracy: 0.8638\n",
      "Epoch 3/30\n",
      "1719/1719 [==============================] - 3s 2ms/step - loss: 0.3823 - accuracy: 0.8618 - val_loss: 0.3738 - val_accuracy: 0.8654\n",
      "Epoch 4/30\n",
      "1719/1719 [==============================] - 3s 2ms/step - loss: 0.3521 - accuracy: 0.8710 - val_loss: 0.3474 - val_accuracy: 0.8766\n",
      "Epoch 5/30\n",
      "1719/1719 [==============================] - 3s 2ms/step - loss: 0.3373 - accuracy: 0.8771 - val_loss: 0.3493 - val_accuracy: 0.8746\n",
      "Epoch 6/30\n",
      "1719/1719 [==============================] - 3s 2ms/step - loss: 0.3139 - accuracy: 0.8861 - val_loss: 0.3206 - val_accuracy: 0.8838\n",
      "Epoch 7/30\n",
      "1719/1719 [==============================] - 3s 2ms/step - loss: 0.3049 - accuracy: 0.8865 - val_loss: 0.3406 - val_accuracy: 0.8740\n",
      "Epoch 8/30\n",
      "1719/1719 [==============================] - 3s 2ms/step - loss: 0.2842 - accuracy: 0.8962 - val_loss: 0.3185 - val_accuracy: 0.8840\n",
      "Epoch 9/30\n",
      "1719/1719 [==============================] - 3s 2ms/step - loss: 0.2778 - accuracy: 0.8976 - val_loss: 0.3148 - val_accuracy: 0.8872\n",
      "Epoch 10/30\n",
      "1719/1719 [==============================] - 3s 2ms/step - loss: 0.2626 - accuracy: 0.9031 - val_loss: 0.3474 - val_accuracy: 0.8786\n",
      "Epoch 11/30\n",
      "1719/1719 [==============================] - 3s 2ms/step - loss: 0.2552 - accuracy: 0.9054 - val_loss: 0.3122 - val_accuracy: 0.8856\n",
      "Epoch 12/30\n",
      "1719/1719 [==============================] - 3s 2ms/step - loss: 0.2524 - accuracy: 0.9061 - val_loss: 0.3118 - val_accuracy: 0.8854\n",
      "Epoch 13/30\n",
      "1719/1719 [==============================] - 3s 2ms/step - loss: 0.2410 - accuracy: 0.9115 - val_loss: 0.2964 - val_accuracy: 0.8912\n",
      "Epoch 14/30\n",
      "1719/1719 [==============================] - 3s 2ms/step - loss: 0.2377 - accuracy: 0.9130 - val_loss: 0.2942 - val_accuracy: 0.8874\n",
      "Epoch 15/30\n",
      "1719/1719 [==============================] - 3s 2ms/step - loss: 0.2277 - accuracy: 0.9145 - val_loss: 0.3199 - val_accuracy: 0.8894\n",
      "Epoch 16/30\n",
      "1719/1719 [==============================] - 3s 2ms/step - loss: 0.2206 - accuracy: 0.9188 - val_loss: 0.2878 - val_accuracy: 0.8976\n",
      "Epoch 17/30\n",
      "1719/1719 [==============================] - 3s 2ms/step - loss: 0.2200 - accuracy: 0.9181 - val_loss: 0.2921 - val_accuracy: 0.8936\n",
      "Epoch 18/30\n",
      "1719/1719 [==============================] - 3s 2ms/step - loss: 0.2113 - accuracy: 0.9218 - val_loss: 0.2997 - val_accuracy: 0.8960\n",
      "Epoch 19/30\n",
      "1719/1719 [==============================] - 3s 2ms/step - loss: 0.2049 - accuracy: 0.9233 - val_loss: 0.3170 - val_accuracy: 0.8882\n",
      "Epoch 20/30\n",
      "1719/1719 [==============================] - 3s 2ms/step - loss: 0.1997 - accuracy: 0.9260 - val_loss: 0.3127 - val_accuracy: 0.8898\n",
      "Epoch 21/30\n",
      "1719/1719 [==============================] - 3s 2ms/step - loss: 0.1982 - accuracy: 0.9255 - val_loss: 0.2995 - val_accuracy: 0.8916\n",
      "Epoch 22/30\n",
      "1719/1719 [==============================] - 3s 2ms/step - loss: 0.1881 - accuracy: 0.9316 - val_loss: 0.3513 - val_accuracy: 0.8814\n",
      "Epoch 23/30\n",
      "1719/1719 [==============================] - 3s 2ms/step - loss: 0.1832 - accuracy: 0.9327 - val_loss: 0.2851 - val_accuracy: 0.8974\n",
      "Epoch 24/30\n",
      "1719/1719 [==============================] - 3s 2ms/step - loss: 0.1801 - accuracy: 0.9331 - val_loss: 0.2988 - val_accuracy: 0.8996\n",
      "Epoch 25/30\n",
      "1719/1719 [==============================] - 3s 2ms/step - loss: 0.1744 - accuracy: 0.9368 - val_loss: 0.3070 - val_accuracy: 0.8902\n",
      "Epoch 26/30\n",
      "1719/1719 [==============================] - 3s 2ms/step - loss: 0.1708 - accuracy: 0.9370 - val_loss: 0.2888 - val_accuracy: 0.9002\n",
      "Epoch 27/30\n",
      "1719/1719 [==============================] - 3s 2ms/step - loss: 0.1697 - accuracy: 0.9376 - val_loss: 0.3284 - val_accuracy: 0.8890\n",
      "Epoch 28/30\n",
      "1719/1719 [==============================] - 3s 2ms/step - loss: 0.1652 - accuracy: 0.9397 - val_loss: 0.2913 - val_accuracy: 0.9014\n",
      "Epoch 29/30\n",
      "1719/1719 [==============================] - 3s 2ms/step - loss: 0.1581 - accuracy: 0.9401 - val_loss: 0.3182 - val_accuracy: 0.8866\n",
      "Epoch 30/30\n",
      "1719/1719 [==============================] - 3s 2ms/step - loss: 0.1522 - accuracy: 0.9450 - val_loss: 0.2947 - val_accuracy: 0.9034\n"
     ]
    }
   ],
   "source": [
    "history = model.fit(X_train, y_train, epochs=30, validation_data=(X_valid, y_valid))"
   ]
  },
  {
   "cell_type": "code",
   "execution_count": 13,
   "metadata": {
    "colab": {
     "base_uri": "https://localhost:8080/",
     "height": 342
    },
    "id": "7lG2R9LTvr0q",
    "outputId": "a4c922c8-ab3e-4f8d-8237-6941b0285da9"
   },
   "outputs": [
    {
     "data": {
      "text/plain": [
       "(0.0, 1.0)"
      ]
     },
     "execution_count": 13,
     "metadata": {},
     "output_type": "execute_result"
    },
    {
     "data": {
      "image/png": "[encoded data removed]",
      "text/plain": [
       "<Figure size 576x360 with 1 Axes>"
      ]
     },
     "metadata": {
      "needs_background": "light"
     },
     "output_type": "display_data"
    }
   ],
   "source": [
    "import pandas as pd\n",
    "import matplotlib.pyplot as plt\n",
    "\n",
    "pd.DataFrame(history.history).plot(figsize=(8, 5))\n",
    "plt.grid(True)\n",
    "plt.gca().set_ylim(0, 1)"
   ]
  },
  {
   "cell_type": "code",
   "execution_count": 14,
   "metadata": {
    "colab": {
     "base_uri": "https://localhost:8080/"
    },
    "id": "R1ZCLZPvBt-T",
    "outputId": "1d7f9897-3168-4f39-db99-f89f9b7e0531"
   },
   "outputs": [
    {
     "name": "stdout",
     "output_type": "stream",
     "text": [
      "313/313 [==============================] - 0s 1ms/step - loss: 0.3227 - accuracy: 0.8916\n"
     ]
    },
    {
     "data": {
      "text/plain": [
       "[0.32268226146698, 0.8916000127792358]"
      ]
     },
     "execution_count": 14,
     "metadata": {},
     "output_type": "execute_result"
    }
   ],
   "source": [
    "model.evaluate(X_test, y_test)"
   ]
  },
  {
   "cell_type": "code",
   "execution_count": 15,
   "metadata": {
    "colab": {
     "base_uri": "https://localhost:8080/"
    },
    "id": "m6ISo51cKIXJ",
    "outputId": "00f06750-740f-4ae0-ce04-e135def4a819"
   },
   "outputs": [
    {
     "data": {
      "text/plain": [
       "array([[0., 0., 0., 0., 0., 0., 0., 0., 0., 1.],\n",
       "       [0., 0., 1., 0., 0., 0., 0., 0., 0., 0.],\n",
       "       [0., 1., 0., 0., 0., 0., 0., 0., 0., 0.]], dtype=float32)"
      ]
     },
     "execution_count": 15,
     "metadata": {},
     "output_type": "execute_result"
    }
   ],
   "source": [
    "X_new = X_test[:3]\n",
    "y_proba = model.predict(X_new)\n",
    "y_proba.round(2)"
   ]
  },
  {
   "cell_type": "code",
   "execution_count": 16,
   "metadata": {
    "colab": {
     "base_uri": "https://localhost:8080/"
    },
    "id": "cWJUtZ3swTDD",
    "outputId": "c0d0472d-b5d9-40db-85d3-b41aadfceedd"
   },
   "outputs": [
    {
     "data": {
      "text/plain": [
       "array(['Ankle boot', 'Pullover', 'Trouser'], dtype='<U11')"
      ]
     },
     "execution_count": 16,
     "metadata": {},
     "output_type": "execute_result"
    }
   ],
   "source": [
    "y_pred = np.argmax(model.predict(X_new), axis = 1)\n",
    "class_names = [\"T-shirt/top\", \"Trouser\", \"Pullover\", \"Dress\", \"Coat\",\n",
    "               \"Sandal\", \"Shirt\", \"Sneaker\", \"Bag\", \"Ankle boot\"]\n",
    "\n",
    "np.array(class_names)[y_pred]"
   ]
  },
  {
   "cell_type": "code",
   "execution_count": 17,
   "metadata": {
    "colab": {
     "base_uri": "https://localhost:8080/"
    },
    "id": "PP0Ww8v5xiJN",
    "outputId": "044c8a96-d11f-4e2d-ba42-3de0d26a161e"
   },
   "outputs": [
    {
     "data": {
      "text/plain": [
       "array([9, 2, 1], dtype=uint8)"
      ]
     },
     "execution_count": 17,
     "metadata": {},
     "output_type": "execute_result"
    }
   ],
   "source": [
    "y_new = y_test[:3]\n",
    "y_new"
   ]
  },
  {
   "cell_type": "code",
   "execution_count": 18,
   "metadata": {
    "id": "TQwUXs8oyZqn"
   },
   "outputs": [],
   "source": [
    "from sklearn.datasets import fetch_california_housing\n",
    "from sklearn.model_selection import train_test_split\n",
    "from sklearn.preprocessing import StandardScaler\n",
    "\n",
    "housing = fetch_california_housing()\n",
    "\n",
    "X_train_full, X_test, y_train_full, y_test = train_test_split(housing.data, housing.target)\n",
    "X_train, X_valid, y_train, y_valid = train_test_split(X_train_full, y_train_full)\n",
    "\n",
    "scaler = StandardScaler()\n",
    "X_train = scaler.fit_transform(X_train)\n",
    "X_valid = scaler.transform(X_valid)\n",
    "X_test = scaler.transform(X_test)\n"
   ]
  },
  {
   "cell_type": "code",
   "execution_count": 19,
   "metadata": {
    "colab": {
     "base_uri": "https://localhost:8080/"
    },
    "id": "TZ0VKNIQzfli",
    "outputId": "82ae998b-2678-47d2-d017-8f062f97a202"
   },
   "outputs": [
    {
     "name": "stdout",
     "output_type": "stream",
     "text": [
      "Epoch 1/20\n",
      "363/363 [==============================] - 1s 1ms/step - loss: 1.3044 - val_loss: 0.6937\n",
      "Epoch 2/20\n",
      "363/363 [==============================] - 0s 829us/step - loss: 3.3857 - val_loss: 0.4678\n",
      "Epoch 3/20\n",
      "363/363 [==============================] - 0s 848us/step - loss: 5.0143 - val_loss: 0.3933\n",
      "Epoch 4/20\n",
      "363/363 [==============================] - 0s 860us/step - loss: 0.4202 - val_loss: 0.3904\n",
      "Epoch 5/20\n",
      "363/363 [==============================] - 0s 861us/step - loss: 0.3697 - val_loss: 0.3964\n",
      "Epoch 6/20\n",
      "363/363 [==============================] - 0s 952us/step - loss: 0.3734 - val_loss: 0.3902\n",
      "Epoch 7/20\n",
      "363/363 [==============================] - 0s 841us/step - loss: 0.3839 - val_loss: 0.3669\n",
      "Epoch 8/20\n",
      "363/363 [==============================] - 0s 842us/step - loss: 0.3650 - val_loss: 0.3734\n",
      "Epoch 9/20\n",
      "363/363 [==============================] - 0s 835us/step - loss: 0.3863 - val_loss: 0.3585\n",
      "Epoch 10/20\n",
      "363/363 [==============================] - 0s 842us/step - loss: 0.3716 - val_loss: 0.3615\n",
      "Epoch 11/20\n",
      "363/363 [==============================] - 0s 831us/step - loss: 0.3635 - val_loss: 0.3546\n",
      "Epoch 12/20\n",
      "363/363 [==============================] - 0s 850us/step - loss: 0.3631 - val_loss: 0.3643\n",
      "Epoch 13/20\n",
      "363/363 [==============================] - 0s 853us/step - loss: 0.3580 - val_loss: 0.3567\n",
      "Epoch 14/20\n",
      "363/363 [==============================] - 0s 837us/step - loss: 0.3485 - val_loss: 0.3550\n",
      "Epoch 15/20\n",
      "363/363 [==============================] - 0s 845us/step - loss: 0.3614 - val_loss: 0.3512\n",
      "Epoch 16/20\n",
      "363/363 [==============================] - 0s 844us/step - loss: 0.3590 - val_loss: 0.3497\n",
      "Epoch 17/20\n",
      "363/363 [==============================] - 0s 833us/step - loss: 0.3464 - val_loss: 0.3499\n",
      "Epoch 18/20\n",
      "363/363 [==============================] - 0s 849us/step - loss: 0.3435 - val_loss: 0.3447\n",
      "Epoch 19/20\n",
      "363/363 [==============================] - 0s 829us/step - loss: 0.3511 - val_loss: 0.3499\n",
      "Epoch 20/20\n",
      "363/363 [==============================] - 0s 850us/step - loss: 0.3442 - val_loss: 0.3387\n",
      "162/162 [==============================] - 0s 507us/step - loss: 0.3314\n"
     ]
    }
   ],
   "source": [
    "model = keras.models.Sequential([\n",
    "                                 keras.layers.Dense(30, activation=\"relu\", input_shape= X_train.shape[1:]),\n",
    "                                 keras.layers.Dense(1)\n",
    "])\n",
    "model.compile(loss = \"mean_squared_error\", optimizer=\"sgd\")\n",
    "history = model.fit(X_train, y_train, epochs = 20, validation_data=(X_valid, y_valid))\n",
    "mse_test = model.evaluate(X_test, y_test)\n",
    "X_new = X_test[:3]\n",
    "y_pred = model.predict(X_new)"
   ]
  },
  {
   "cell_type": "code",
   "execution_count": 20,
   "metadata": {
    "colab": {
     "base_uri": "https://localhost:8080/",
     "height": 286
    },
    "id": "m-FPnkHY5MFq",
    "outputId": "9b9d3135-3312-49fa-ad1b-19cebde128af"
   },
   "outputs": [
    {
     "data": {
      "text/plain": [
       "(0.0, 1.0)"
      ]
     },
     "execution_count": 20,
     "metadata": {},
     "output_type": "execute_result"
    },
    {
     "data": {
      "image/png": "[encoded data removed]",
      "text/plain": [
       "<Figure size 432x288 with 1 Axes>"
      ]
     },
     "metadata": {
      "needs_background": "light"
     },
     "output_type": "display_data"
    }
   ],
   "source": [
    "plt.plot(pd.DataFrame(history.history))\n",
    "plt.grid(True)\n",
    "plt.gca().set_ylim(0,1)"
   ]
  },
  {
   "cell_type": "raw",
   "metadata": {
    "id": "miyLXqwr1uen"
   },
   "source": [
    "from numpy.core.fromnumeric import shape\n",
    "input_ = keras.layers.Input(shape= X_train.shape[1:])\n",
    "hidden1 = keras.layers.Dense(30, activation=\"relu\")(input_)\n",
    "hidden2 = keras.layers.Dense(30, activation=\"relu\")(hidden1)\n",
    "Concatenate = keras.layers.Concatenate()([input_, hidden2])\n",
    "output = keras.layers.Dense(1)(Concatenate)"
   ]
  },
  {
   "cell_type": "raw",
   "metadata": {
    "id": "yBUvCthB26Ak"
   },
   "source": [
    "model = keras.Model(inputs = [input_], outputs = [output])"
   ]
  },
  {
   "cell_type": "raw",
   "metadata": {
    "id": "1QVTKWx73PZz"
   },
   "source": [
    "model.compile(optimizer=\"sgd\", loss=\"mean_squared_error\")"
   ]
  },
  {
   "cell_type": "raw",
   "metadata": {
    "colab": {
     "base_uri": "https://localhost:8080/"
    },
    "id": "CqDVwxqx4uKZ",
    "outputId": "6f729c29-a482-412f-c45c-9bbbda1bbec2"
   },
   "source": [
    "history = model.fit(X_train, y_train, epochs=20, validation_data=(X_valid, y_valid))"
   ]
  },
  {
   "cell_type": "raw",
   "metadata": {
    "id": "9GV81f0g5GUF"
   },
   "source": [
    "input_A = keras.layers.Input(shape=[5], name = \"wide input\")\n",
    "input_B = keras.layers.Input(shape=[6], name = \"deep input\")\n",
    "hidden1 = keras.layers.Dense(30, activation = \"relu\")(input_B)\n",
    "hidden2 = keras.layers.Dense(30, activation = \"relu\")(hidden1)\n",
    "Concat = keras.layers.concatenate([input_A, hidden2])\n",
    "output = keras.layers.Dense(1, name=\"output\")(Concat)\n",
    "model = keras.Model(inputs = [input_A, input_B], outputs = [output])"
   ]
  },
  {
   "cell_type": "raw",
   "metadata": {
    "id": "hKhZkoqa47Xf"
   },
   "source": [
    "model.compile(optimizer = keras.optimizers.SGD(learning_rate=1e-3), loss = \"mse\")"
   ]
  },
  {
   "cell_type": "raw",
   "metadata": {
    "id": "L-hm2Sok7d8f"
   },
   "source": [
    "X_train_A, X_train_B = X_train[:, :5], X_train[:, 2:]\n",
    "X_valid_A, X_valid_B = X_valid[:, :5], X_valid[:, 2:]\n",
    "X_test_A, X_test_B = X_test[:, :5], X_test[:, 2:]\n",
    "X_new_A, X_new_B = X_test_A[:3], X_test_B[:3]"
   ]
  },
  {
   "cell_type": "raw",
   "metadata": {
    "colab": {
     "base_uri": "https://localhost:8080/"
    },
    "id": "zNDGrlUv8IH5",
    "outputId": "5b2b719a-6a6a-43dc-e310-11fa3b12b449"
   },
   "source": [
    "history = model.fit((X_train_A, X_train_B), y_train, epochs=20,\n",
    "                    validation_data=((X_valid_A, X_valid_B), y_valid))\n",
    "mse_test = model.evaluate((X_test_A, X_test_B), y_test)\n",
    "y_pred = model.predict((X_new_A, X_new_B))"
   ]
  },
  {
   "cell_type": "raw",
   "metadata": {
    "colab": {
     "base_uri": "https://localhost:8080/",
     "height": 234
    },
    "id": "1QS_c72j8rew",
    "outputId": "27230f0d-88ce-4979-ec44-e1b086c96d51"
   },
   "source": [
    "class WideAndDeepModel(keras.Model):\n",
    "  def __init__(self, units=30, activation=\"relu\", **kwargs):\n",
    "      super().__init__(**kwargs)\n",
    "      self.hidden1 = keras.layers.Dense(units, activation=activation)\n",
    "      self.hidden2 = keras.layers.Dense(units, activation=activation)\n",
    "      self.main_output = keras.layers.Dense(1)\n",
    "      self.aux_output = keras.layers.Dense(1)\n",
    "\n",
    "  def call(self, inputs):\n",
    "    input_A, input_B = inputs\n",
    "    hidden1 = self.hidden1(input_A)\n",
    "    hidden2 = self.hidden2(input_B)\n",
    "    concat = keras.layers.concatenate([input_A, input_B])\n",
    "    main_output = self.main_output(concat)\n",
    "    aux_output = self.aux_output(hidden2)\n",
    "    return main_output, aux_output\n",
    "\n",
    "model = WideAndDeepModel()"
   ]
  },
  {
   "cell_type": "raw",
   "metadata": {
    "id": "wDGBS7nT3V3K"
   },
   "source": [
    "model.save(\"my_keras_model.h5\") #Save models. Only works with sequential & functional APIs but not subclass API\n",
    "model = keras.models.load_model(\"my_keras_model.h5\") #Load model. Only works with sequential & functional APIs but not subclass API"
   ]
  },
  {
   "cell_type": "markdown",
   "metadata": {},
   "source": [
    "## Callbacks\n",
    "\n",
    "Callbacks can be used as argument to fit() method to specify a list of objects that Keras will call at the start and end of training, at the start and end of each epoch, and even before and after processing a batch."
   ]
  },
  {
   "cell_type": "raw",
   "metadata": {},
   "source": [
    "checkpoint_cb = keras.callbacks.ModelCheckpoint(\"my_keras_model.h5\")\n",
    "history = model.fit(X_train_A , y_train, epochs=10, callbacks=[checkpoint_cb])"
   ]
  },
  {
   "cell_type": "markdown",
   "metadata": {},
   "source": [
    "We can also set save_best_only=True when creating ModelCheckpoint if using a validation set, so that it will save the model only when its performance on the validation set is the best so far. This way we don't need to worry about training for too long and overfitting the training set; simply restore the last model saved after training, and this will be the best model on the validation set.\n",
    "\n",
    "The following is a simple way to implement early stopping:"
   ]
  },
  {
   "cell_type": "code",
   "execution_count": 21,
   "metadata": {},
   "outputs": [
    {
     "name": "stdout",
     "output_type": "stream",
     "text": [
      "Epoch 1/30\n",
      "363/363 [==============================] - 0s 932us/step - loss: 0.3442 - val_loss: 0.3405\n",
      "Epoch 2/30\n",
      "363/363 [==============================] - 0s 853us/step - loss: 0.3432 - val_loss: 0.3475\n",
      "Epoch 3/30\n",
      "363/363 [==============================] - 0s 845us/step - loss: 0.3432 - val_loss: 0.3386\n",
      "Epoch 4/30\n",
      "363/363 [==============================] - 0s 843us/step - loss: 0.3419 - val_loss: 0.3392\n",
      "Epoch 5/30\n",
      "363/363 [==============================] - 0s 841us/step - loss: 0.3379 - val_loss: 0.3416\n",
      "Epoch 6/30\n",
      "363/363 [==============================] - 0s 842us/step - loss: 0.3393 - val_loss: 0.3511\n",
      "Epoch 7/30\n",
      "363/363 [==============================] - 0s 841us/step - loss: 0.3426 - val_loss: 0.3378\n",
      "Epoch 8/30\n",
      "363/363 [==============================] - 0s 864us/step - loss: 0.3379 - val_loss: 0.4039\n",
      "Epoch 9/30\n",
      "363/363 [==============================] - 0s 836us/step - loss: 0.3413 - val_loss: 0.3305\n",
      "Epoch 10/30\n",
      "363/363 [==============================] - 0s 848us/step - loss: 0.3344 - val_loss: 0.3326\n",
      "Epoch 11/30\n",
      "363/363 [==============================] - 0s 856us/step - loss: 0.3338 - val_loss: 0.3346\n",
      "Epoch 12/30\n",
      "363/363 [==============================] - 0s 848us/step - loss: 0.3307 - val_loss: 0.3263\n",
      "Epoch 13/30\n",
      "363/363 [==============================] - 0s 841us/step - loss: 0.3296 - val_loss: 0.3362\n",
      "Epoch 14/30\n",
      "363/363 [==============================] - 0s 840us/step - loss: 0.3270 - val_loss: 0.3271\n",
      "Epoch 15/30\n",
      "363/363 [==============================] - 0s 841us/step - loss: 0.3260 - val_loss: 0.3447\n",
      "Epoch 16/30\n",
      "363/363 [==============================] - 0s 841us/step - loss: 0.3271 - val_loss: 0.3235\n",
      "Epoch 17/30\n",
      "363/363 [==============================] - 0s 859us/step - loss: 0.3258 - val_loss: 0.3455\n",
      "Epoch 18/30\n",
      "363/363 [==============================] - 0s 845us/step - loss: 0.3277 - val_loss: 0.3390\n",
      "Epoch 19/30\n",
      "363/363 [==============================] - 0s 843us/step - loss: 0.3247 - val_loss: 0.3181\n",
      "Epoch 20/30\n",
      "363/363 [==============================] - 0s 849us/step - loss: 0.3227 - val_loss: 0.3231\n",
      "Epoch 21/30\n",
      "363/363 [==============================] - 0s 861us/step - loss: 0.3223 - val_loss: 0.3229\n",
      "Epoch 22/30\n",
      "363/363 [==============================] - 0s 848us/step - loss: 0.3222 - val_loss: 0.3207\n",
      "Epoch 23/30\n",
      "363/363 [==============================] - 0s 850us/step - loss: 0.3214 - val_loss: 0.3164\n",
      "Epoch 24/30\n",
      "363/363 [==============================] - 0s 902us/step - loss: 0.3202 - val_loss: 0.3202\n",
      "Epoch 25/30\n",
      "363/363 [==============================] - 0s 864us/step - loss: 0.3202 - val_loss: 0.3261\n",
      "Epoch 26/30\n",
      "363/363 [==============================] - 0s 847us/step - loss: 0.3203 - val_loss: 0.3193\n",
      "Epoch 27/30\n",
      "363/363 [==============================] - 0s 855us/step - loss: 0.3190 - val_loss: 0.3169\n",
      "Epoch 28/30\n",
      "363/363 [==============================] - 0s 857us/step - loss: 0.3169 - val_loss: 0.3172\n",
      "Epoch 29/30\n",
      "363/363 [==============================] - 0s 844us/step - loss: 0.3184 - val_loss: 0.3180\n",
      "Epoch 30/30\n",
      "363/363 [==============================] - 0s 841us/step - loss: 0.3148 - val_loss: 0.3218\n"
     ]
    }
   ],
   "source": [
    "checkpoint_cb = keras.callbacks.ModelCheckpoint(\"my_keras_model.h5\",\n",
    "                                               save_best_only=True)\n",
    "history = model.fit(X_train, y_train, epochs=30,\n",
    "                   validation_data=(X_valid, y_valid),\n",
    "                    callbacks=[checkpoint_cb])\n",
    "model = keras.models.load_model(\"my_keras_model.h5\")"
   ]
  },
  {
   "cell_type": "markdown",
   "metadata": {},
   "source": [
    "Another way to implement early stopping is to use the EarlyStopping callback. It will interrupt training when it measures no progress on the validation set for a number of epochs (defined by *patience* argument), and it will optionally roll back to the best model.\n",
    "\n",
    "We can implement both callbacks to save checkpoints of the model and interrupt training early when there is no more progress (to avoid wasting time and resources)."
   ]
  },
  {
   "cell_type": "code",
   "execution_count": 22,
   "metadata": {},
   "outputs": [
    {
     "name": "stdout",
     "output_type": "stream",
     "text": [
      "Epoch 1/100\n",
      "363/363 [==============================] - 0s 1ms/step - loss: 0.3203 - val_loss: 0.3277\n",
      "Epoch 2/100\n",
      "363/363 [==============================] - 0s 842us/step - loss: 0.3181 - val_loss: 0.3353\n",
      "Epoch 3/100\n",
      "363/363 [==============================] - 0s 844us/step - loss: 0.3192 - val_loss: 0.3306\n",
      "Epoch 4/100\n",
      "363/363 [==============================] - 0s 851us/step - loss: 0.3182 - val_loss: 0.3132\n",
      "Epoch 5/100\n",
      "363/363 [==============================] - 0s 848us/step - loss: 0.3192 - val_loss: 0.3150\n",
      "Epoch 6/100\n",
      "363/363 [==============================] - 0s 853us/step - loss: 0.3162 - val_loss: 0.3203\n",
      "Epoch 7/100\n",
      "363/363 [==============================] - 0s 850us/step - loss: 0.3160 - val_loss: 0.3216\n",
      "Epoch 8/100\n",
      "363/363 [==============================] - 0s 852us/step - loss: 0.3146 - val_loss: 0.3118\n",
      "Epoch 9/100\n",
      "363/363 [==============================] - 0s 831us/step - loss: 0.3205 - val_loss: 0.3396\n",
      "Epoch 10/100\n",
      "363/363 [==============================] - 0s 860us/step - loss: 0.3211 - val_loss: 0.3230\n",
      "Epoch 11/100\n",
      "363/363 [==============================] - 0s 839us/step - loss: 0.3192 - val_loss: 0.3150\n",
      "Epoch 12/100\n",
      "363/363 [==============================] - 0s 837us/step - loss: 0.3180 - val_loss: 0.3561\n",
      "Epoch 13/100\n",
      "363/363 [==============================] - 0s 843us/step - loss: 0.3167 - val_loss: 0.3136\n",
      "Epoch 14/100\n",
      "363/363 [==============================] - 0s 839us/step - loss: 0.3158 - val_loss: 0.3090\n",
      "Epoch 15/100\n",
      "363/363 [==============================] - 0s 839us/step - loss: 0.3154 - val_loss: 0.3069\n",
      "Epoch 16/100\n",
      "363/363 [==============================] - 0s 852us/step - loss: 0.3131 - val_loss: 0.3240\n",
      "Epoch 17/100\n",
      "363/363 [==============================] - 0s 852us/step - loss: 0.3104 - val_loss: 0.3184\n",
      "Epoch 18/100\n",
      "363/363 [==============================] - 0s 852us/step - loss: 0.3115 - val_loss: 0.3086\n",
      "Epoch 19/100\n",
      "363/363 [==============================] - 0s 860us/step - loss: 0.3120 - val_loss: 0.3093\n",
      "Epoch 20/100\n",
      "363/363 [==============================] - 0s 849us/step - loss: 0.3097 - val_loss: 0.3073\n",
      "Epoch 21/100\n",
      "363/363 [==============================] - 0s 858us/step - loss: 0.3086 - val_loss: 0.3155\n",
      "Epoch 22/100\n",
      "363/363 [==============================] - 0s 840us/step - loss: 0.3103 - val_loss: 0.3048\n",
      "Epoch 23/100\n",
      "363/363 [==============================] - 0s 850us/step - loss: 0.3084 - val_loss: 0.3124\n",
      "Epoch 24/100\n",
      "363/363 [==============================] - 0s 843us/step - loss: 0.3095 - val_loss: 0.3070\n",
      "Epoch 25/100\n",
      "363/363 [==============================] - 0s 846us/step - loss: 0.3081 - val_loss: 0.3017\n",
      "Epoch 26/100\n",
      "363/363 [==============================] - 0s 846us/step - loss: 0.3066 - val_loss: 0.3241\n",
      "Epoch 27/100\n",
      "363/363 [==============================] - 0s 850us/step - loss: 0.3072 - val_loss: 0.3170\n",
      "Epoch 28/100\n",
      "363/363 [==============================] - 0s 833us/step - loss: 0.3069 - val_loss: 0.3482\n",
      "Epoch 29/100\n",
      "363/363 [==============================] - 0s 853us/step - loss: 0.3057 - val_loss: 0.3193\n",
      "Epoch 30/100\n",
      "363/363 [==============================] - 0s 851us/step - loss: 0.3093 - val_loss: 0.3061\n",
      "Epoch 31/100\n",
      "363/363 [==============================] - 0s 853us/step - loss: 0.3048 - val_loss: 0.3207\n",
      "Epoch 32/100\n",
      "363/363 [==============================] - 0s 852us/step - loss: 0.3058 - val_loss: 0.3063\n",
      "Epoch 33/100\n",
      "363/363 [==============================] - 0s 843us/step - loss: 0.3102 - val_loss: 0.3034\n",
      "Epoch 34/100\n",
      "363/363 [==============================] - 0s 844us/step - loss: 0.3047 - val_loss: 0.3103\n",
      "Epoch 35/100\n",
      "363/363 [==============================] - 0s 849us/step - loss: 0.3048 - val_loss: 0.3088\n"
     ]
    }
   ],
   "source": [
    "early_stopping_cb = keras.callbacks.EarlyStopping(patience=10, \n",
    "                                                 restore_best_weights=True)\n",
    "history = model.fit(X_train, y_train, epochs=100, validation_data=(X_valid, y_valid),\n",
    "                   callbacks=[checkpoint_cb, early_stopping_cb])"
   ]
  },
  {
   "cell_type": "markdown",
   "metadata": {},
   "source": [
    "We can also write custom callbacks if we need more control.\n",
    "\n",
    "The following custom callback will display the ratio between validation loss and training loss during training, (e.g. to detect overfitting)."
   ]
  },
  {
   "cell_type": "code",
   "execution_count": 23,
   "metadata": {},
   "outputs": [],
   "source": [
    "class PrintValTrainRatioCallback(keras.callbacks.Callback):\n",
    "    def on_epoch_end(self, epoch, logs):\n",
    "        print(\"\\nval/train: {:.2f}\".format(logs[\"val_loss\"] / logs[\"loss\"]))"
   ]
  },
  {
   "cell_type": "markdown",
   "metadata": {},
   "source": [
    "Callbacks can be used during evaluation and predictions for debugging.\n",
    "\n",
    "* For evaluation, we should implement on_test_begin(), on_test_end(), on_test_batch_begin(), on_test_batch_end() (called by evaluate()).\n",
    "* For prediction, we should implement on_predict_begin(), on_predict_end(), on_predict_batch_begin(), on_predict_batch_end() (called by predict())."
   ]
  },
  {
   "cell_type": "markdown",
   "metadata": {},
   "source": [
    "## Tensorboard"
   ]
  },
  {
   "cell_type": "markdown",
   "metadata": {},
   "source": [
    "Tensorboard can be used for visualization to view learning curves during training, view learning curves between multiple runs, visualize computational graphs, analyse training statistics, view images generated by the model, visualize complex multidimensional data projected down to 3D, etc.\n",
    "\n",
    "To use it, the program must be modified to output the data we want to visualize to binary log files called *event files*. Each binary record is called a *summary*.\n",
    "The Tensorboard server will monitor the log directory, and will automatically pick up changes and update the visualizations, which allows us to visualize live data.\n",
    "In general, you want to point the Tensorboard server to a root log directory and configure the program so that it writes to a different subdirectory every time it runs. This will help to compare multiple runs without mixing things up."
   ]
  },
  {
   "cell_type": "code",
   "execution_count": 24,
   "metadata": {},
   "outputs": [],
   "source": [
    "import os\n",
    "root_logdir = os.path.join(os.curdir, \"my_logs\")\n",
    "\n",
    "def get_run_logdir():\n",
    "    import time\n",
    "    run_id = time.strftime(\"run_%Y_%m_%d-%H_%M_%S\")\n",
    "    return os.path.join(root_logdir, run_id)\n",
    "\n",
    "run_logdir = get_run_logdir()"
   ]
  },
  {
   "cell_type": "code",
   "execution_count": 25,
   "metadata": {},
   "outputs": [
    {
     "name": "stdout",
     "output_type": "stream",
     "text": [
      "Epoch 1/30\n",
      "205/363 [===============>..............] - ETA: 0s - loss: 0.3158"
     ]
    },
    {
     "name": "stderr",
     "output_type": "stream",
     "text": [
      "2021-12-31 11:34:38.339768: I tensorflow/core/profiler/lib/profiler_session.cc:136] Profiler session initializing.\n",
      "2021-12-31 11:34:38.339796: I tensorflow/core/profiler/lib/profiler_session.cc:155] Profiler session started.\n",
      "2021-12-31 11:34:38.339842: I tensorflow/core/profiler/lib/profiler_session.cc:172] Profiler session tear down.\n",
      "2021-12-31 11:34:38.383308: I tensorflow/core/profiler/lib/profiler_session.cc:136] Profiler session initializing.\n",
      "2021-12-31 11:34:38.383345: I tensorflow/core/profiler/lib/profiler_session.cc:155] Profiler session started.\n",
      "2021-12-31 11:34:38.386386: I tensorflow/core/profiler/lib/profiler_session.cc:71] Profiler session collecting data.\n",
      "2021-12-31 11:34:38.391049: I tensorflow/core/profiler/lib/profiler_session.cc:172] Profiler session tear down.\n",
      "2021-12-31 11:34:38.397262: I tensorflow/core/profiler/rpc/client/save_profile.cc:137] Creating directory: ./my_logs/run_2021_12_31-11_34_38/train/plugins/profile/2021_12_31_11_34_38\n",
      "2021-12-31 11:34:38.397769: I tensorflow/core/profiler/rpc/client/save_profile.cc:143] Dumped gzipped tool data for trace.json.gz to ./my_logs/run_2021_12_31-11_34_38/train/plugins/profile/2021_12_31_11_34_38/default.trace.json.gz\n",
      "2021-12-31 11:34:38.403059: I tensorflow/core/profiler/rpc/client/save_profile.cc:137] Creating directory: ./my_logs/run_2021_12_31-11_34_38/train/plugins/profile/2021_12_31_11_34_38\n",
      "2021-12-31 11:34:38.403174: I tensorflow/core/profiler/rpc/client/save_profile.cc:143] Dumped gzipped tool data for memory_profile.json.gz to ./my_logs/run_2021_12_31-11_34_38/train/plugins/profile/2021_12_31_11_34_38/default.memory_profile.json.gz\n",
      "2021-12-31 11:34:38.403315: I tensorflow/core/profiler/rpc/client/capture_profile.cc:251] Creating directory: ./my_logs/run_2021_12_31-11_34_38/train/plugins/profile/2021_12_31_11_34_38Dumped tool data for xplane.pb to ./my_logs/run_2021_12_31-11_34_38/train/plugins/profile/2021_12_31_11_34_38/default.xplane.pb\n",
      "Dumped tool data for overview_page.pb to ./my_logs/run_2021_12_31-11_34_38/train/plugins/profile/2021_12_31_11_34_38/default.overview_page.pb\n",
      "Dumped tool data for input_pipeline.pb to ./my_logs/run_2021_12_31-11_34_38/train/plugins/profile/2021_12_31_11_34_38/default.input_pipeline.pb\n",
      "Dumped tool data for tensorflow_stats.pb to ./my_logs/run_2021_12_31-11_34_38/train/plugins/profile/2021_12_31_11_34_38/default.tensorflow_stats.pb\n",
      "Dumped tool data for kernel_stats.pb to ./my_logs/run_2021_12_31-11_34_38/train/plugins/profile/2021_12_31_11_34_38/default.kernel_stats.pb\n",
      "\n"
     ]
    },
    {
     "name": "stdout",
     "output_type": "stream",
     "text": [
      "363/363 [==============================] - 0s 1ms/step - loss: 0.3083 - val_loss: 0.3133\n",
      "Epoch 2/30\n",
      "363/363 [==============================] - 0s 861us/step - loss: 0.3090 - val_loss: 0.3109\n",
      "Epoch 3/30\n",
      "363/363 [==============================] - 0s 869us/step - loss: 0.3091 - val_loss: 0.3059\n",
      "Epoch 4/30\n",
      "363/363 [==============================] - 0s 872us/step - loss: 0.3061 - val_loss: 0.3225\n",
      "Epoch 5/30\n",
      "363/363 [==============================] - 0s 847us/step - loss: 0.3072 - val_loss: 0.3200\n",
      "Epoch 6/30\n",
      "363/363 [==============================] - 0s 847us/step - loss: 0.3070 - val_loss: 0.3060\n",
      "Epoch 7/30\n",
      "363/363 [==============================] - 0s 850us/step - loss: 0.3062 - val_loss: 0.3024\n",
      "Epoch 8/30\n",
      "363/363 [==============================] - 0s 880us/step - loss: 0.3058 - val_loss: 0.3041\n",
      "Epoch 9/30\n",
      "363/363 [==============================] - 0s 874us/step - loss: 0.3051 - val_loss: 0.3128\n",
      "Epoch 10/30\n",
      "363/363 [==============================] - 0s 859us/step - loss: 0.3046 - val_loss: 0.3029\n",
      "Epoch 11/30\n",
      "363/363 [==============================] - 0s 858us/step - loss: 0.3048 - val_loss: 0.3022\n",
      "Epoch 12/30\n",
      "363/363 [==============================] - 0s 864us/step - loss: 0.3046 - val_loss: 0.3334\n",
      "Epoch 13/30\n",
      "363/363 [==============================] - 0s 856us/step - loss: 0.3044 - val_loss: 0.3300\n",
      "Epoch 14/30\n",
      "363/363 [==============================] - 0s 835us/step - loss: 0.3027 - val_loss: 0.3143\n",
      "Epoch 15/30\n",
      "363/363 [==============================] - 0s 855us/step - loss: 0.3020 - val_loss: 0.3059\n",
      "Epoch 16/30\n",
      "363/363 [==============================] - 0s 846us/step - loss: 0.3034 - val_loss: 0.3152\n",
      "Epoch 17/30\n",
      "363/363 [==============================] - 0s 850us/step - loss: 0.3034 - val_loss: 0.3002\n",
      "Epoch 18/30\n",
      "363/363 [==============================] - 0s 843us/step - loss: 0.3038 - val_loss: 0.2988\n",
      "Epoch 19/30\n",
      "363/363 [==============================] - 0s 837us/step - loss: 0.3022 - val_loss: 0.3080\n",
      "Epoch 20/30\n",
      "363/363 [==============================] - 0s 850us/step - loss: 0.3018 - val_loss: 0.3080\n",
      "Epoch 21/30\n",
      "363/363 [==============================] - 0s 839us/step - loss: 0.3026 - val_loss: 0.2990\n",
      "Epoch 22/30\n",
      "363/363 [==============================] - 0s 846us/step - loss: 0.3019 - val_loss: 0.3111\n",
      "Epoch 23/30\n",
      "363/363 [==============================] - 0s 846us/step - loss: 0.3008 - val_loss: 0.3038\n",
      "Epoch 24/30\n",
      "363/363 [==============================] - 0s 847us/step - loss: 0.3018 - val_loss: 0.3105\n",
      "Epoch 25/30\n",
      "363/363 [==============================] - 0s 840us/step - loss: 0.3013 - val_loss: 0.3130\n",
      "Epoch 26/30\n",
      "363/363 [==============================] - 0s 850us/step - loss: 0.3002 - val_loss: 0.3045\n",
      "Epoch 27/30\n",
      "363/363 [==============================] - 0s 848us/step - loss: 0.2993 - val_loss: 0.3353\n",
      "Epoch 28/30\n",
      "363/363 [==============================] - 0s 847us/step - loss: 0.3008 - val_loss: 0.3421\n",
      "Epoch 29/30\n",
      "363/363 [==============================] - 0s 843us/step - loss: 0.3047 - val_loss: 0.3177\n",
      "Epoch 30/30\n",
      "363/363 [==============================] - 0s 842us/step - loss: 0.3002 - val_loss: 0.3047\n"
     ]
    }
   ],
   "source": [
    "tensorboard_cb = keras.callbacks.TensorBoard(run_logdir)\n",
    "history = model.fit(X_train, y_train, epochs=30, \n",
    "                    validation_data=(X_valid, y_valid),\n",
    "                   callbacks=[tensorboard_cb])"
   ]
  },
  {
   "cell_type": "code",
   "execution_count": 26,
   "metadata": {},
   "outputs": [],
   "source": [
    "%load_ext tensorboard"
   ]
  },
  {
   "cell_type": "code",
   "execution_count": 27,
   "metadata": {},
   "outputs": [
    {
     "data": {
      "text/html": [
       "\n",
       "      <iframe id=\"tensorboard-frame-9a854270b6d5f920\" width=\"100%\" height=\"800\" frameborder=\"0\">\n",
       "      </iframe>\n",
       "      <script>\n",
       "        (function() {\n",
       "          const frame = document.getElementById(\"tensorboard-frame-9a854270b6d5f920\");\n",
       "          const url = new URL(\"/\", window.location);\n",
       "          const port = 6006;\n",
       "          if (port) {\n",
       "            url.port = port;\n",
       "          }\n",
       "          frame.src = url;\n",
       "        })();\n",
       "      </script>\n",
       "    "
      ],
      "text/plain": [
       "<IPython.core.display.HTML object>"
      ]
     },
     "metadata": {},
     "output_type": "display_data"
    }
   ],
   "source": [
    "%tensorboard --logdir=./my_logs --port=6006 --bind_all"
   ]
  },
  {
   "cell_type": "code",
   "execution_count": null,
   "metadata": {},
   "outputs": [],
   "source": []
  }
 ],
 "metadata": {
  "accelerator": "GPU",
  "colab": {
   "authorship_tag": "ABX9TyO+eOuRD1yq09pABu5mgLX+",
   "collapsed_sections": [],
   "include_colab_link": true,
   "name": "Intro to ANN with Keras .ipynb",
   "provenance": []
  },
  "kernelspec": {
   "display_name": "d2l:Python",
   "language": "python",
   "name": "conda-env-d2l-py"
  },
  "language_info": {
   "codemirror_mode": {
    "name": "ipython",
    "version": 3
   },
   "file_extension": ".py",
   "mimetype": "text/x-python",
   "name": "python",
   "nbconvert_exporter": "python",
   "pygments_lexer": "ipython3",
   "version": "3.9.9"
  }
 },
 "nbformat": 4,
 "nbformat_minor": 4
}
