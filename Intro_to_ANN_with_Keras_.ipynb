{
 "cells": [
  {
   "cell_type": "markdown",
   "metadata": {
    "colab_type": "text",
    "id": "view-in-github"
   },
   "source": [
    "<a href=\"https://colab.research.google.com/github/phaneo/Hands-on-ML/blob/main/Intro_to_ANN_with_Keras_.ipynb\" target=\"_parent\"><img src=\"https://colab.research.google.com/assets/colab-badge.svg\" alt=\"Open In Colab\"/></a>\n",
    "\n",
    "[![Open In Studio Lab](https://studiolab.sagemaker.aws/studiolab.svg)](https://studiolab.sagemaker.aws/import/github/phaneo/Hands-on-ML/blob/main/Intro_to_ANN_with_Keras_.ipynb)"
   ]
  },
  {
   "cell_type": "markdown",
   "metadata": {
    "id": "__Y8bw2FueCY"
   },
   "source": [
    "# **Perceptrons**"
   ]
  },
  {
   "cell_type": "code",
   "execution_count": 1,
   "metadata": {
    "id": "dCYv7pKktO5L"
   },
   "outputs": [],
   "source": [
    "import numpy as np\n",
    "from sklearn.datasets import load_iris\n",
    "from sklearn.linear_model import Perceptron\n",
    "\n",
    "iris = load_iris()\n",
    "X= iris.data[:, (2, 3)]\n",
    "y = (iris.target ==0).astype(int)\n",
    "\n",
    "per_clf = Perceptron()\n",
    "per_clf.fit(X, y)\n",
    "y_pred = per_clf.predict([[2, 0.5]])\n"
   ]
  },
  {
   "cell_type": "code",
   "execution_count": 2,
   "metadata": {
    "colab": {
     "base_uri": "https://localhost:8080/",
     "height": 35
    },
    "id": "W33XGkvguNHZ",
    "outputId": "f12c2cd7-be93-414f-fae5-cc5d75926322"
   },
   "outputs": [
    {
     "data": {
      "text/plain": [
       "'2.4.3'"
      ]
     },
     "execution_count": 2,
     "metadata": {},
     "output_type": "execute_result"
    }
   ],
   "source": [
    "import tensorflow as tf\n",
    "from tensorflow import keras\n",
    "\n",
    "tf.__version__"
   ]
  },
  {
   "cell_type": "code",
   "execution_count": 3,
   "metadata": {
    "colab": {
     "base_uri": "https://localhost:8080/",
     "height": 35
    },
    "id": "MhzPnw_OIJA1",
    "outputId": "d634f0c6-dc05-4e24-8e6f-4f22fd27d798"
   },
   "outputs": [
    {
     "data": {
      "text/plain": [
       "'2.4.0'"
      ]
     },
     "execution_count": 3,
     "metadata": {},
     "output_type": "execute_result"
    }
   ],
   "source": [
    "keras.__version__"
   ]
  },
  {
   "cell_type": "code",
   "execution_count": 4,
   "metadata": {
    "id": "Rlkx3e-2ILoG"
   },
   "outputs": [],
   "source": [
    "fashion_mnist = keras.datasets.fashion_mnist\n",
    "(X_train_full, y_train_full), (X_test, y_test) = fashion_mnist.load_data()"
   ]
  },
  {
   "cell_type": "code",
   "execution_count": 5,
   "metadata": {
    "id": "pGfs6F_WI19P"
   },
   "outputs": [],
   "source": [
    "X_valid, X_train = X_train_full[:5000] / 255., X_train_full[5000:] / 255.\n",
    "y_valid, y_train = y_train_full[:5000] , y_train_full[5000:]\n",
    "X_test = X_test/255."
   ]
  },
  {
   "cell_type": "code",
   "execution_count": 6,
   "metadata": {
    "colab": {
     "base_uri": "https://localhost:8080/",
     "height": 266
    },
    "id": "rVvZV9OVESBY",
    "outputId": "d65e753d-0ab6-44ec-d9d5-8490b38edc42"
   },
   "outputs": [
    {
     "data": {
      "text/plain": [
       "(-0.5, 27.5, 27.5, -0.5)"
      ]
     },
     "execution_count": 6,
     "metadata": {},
     "output_type": "execute_result"
    },
    {
     "data": {
      "image/png": "[encoded data removed]",
      "text/plain": [
       "<Figure size 432x288 with 1 Axes>"
      ]
     },
     "metadata": {
      "needs_background": "light"
     },
     "output_type": "display_data"
    }
   ],
   "source": [
    "import matplotlib.pyplot as plt\n",
    "plt.imshow(X_train[0], cmap='binary')\n",
    "plt.axis(\"off\")"
   ]
  },
  {
   "cell_type": "code",
   "execution_count": 7,
   "metadata": {
    "colab": {
     "base_uri": "https://localhost:8080/"
    },
    "id": "jylVcfonEbXQ",
    "outputId": "d285a3ba-47c2-4a52-a900-277514dc1cb1"
   },
   "outputs": [
    {
     "data": {
      "text/plain": [
       "array([4, 0, 7, ..., 3, 0, 5], dtype=uint8)"
      ]
     },
     "execution_count": 7,
     "metadata": {},
     "output_type": "execute_result"
    }
   ],
   "source": [
    "y_train"
   ]
  },
  {
   "cell_type": "code",
   "execution_count": 8,
   "metadata": {
    "id": "YPDLc7r3J57k"
   },
   "outputs": [
    {
     "name": "stderr",
     "output_type": "stream",
     "text": [
      "2022-01-01 04:54:24.256101: I tensorflow/core/platform/cpu_feature_guard.cc:142] This TensorFlow binary is optimized with oneAPI Deep Neural Network Library (oneDNN) to use the following CPU instructions in performance-critical operations:  SSE4.1 SSE4.2 AVX AVX2 AVX512F FMA\n",
      "To enable them in other operations, rebuild TensorFlow with the appropriate compiler flags.\n"
     ]
    }
   ],
   "source": [
    "model = keras.models.Sequential()\n",
    "model.add(keras.layers.Flatten(input_shape=[28, 28]))\n",
    "model.add(keras.layers.Dense(300, activation=\"relu\"))\n",
    "model.add(keras.layers.Dense(100, activation=\"relu\"))\n",
    "model.add(keras.layers.Dense(10, activation=\"softmax\"))\n"
   ]
  },
  {
   "cell_type": "markdown",
   "metadata": {
    "id": "q2YFk14qsDcQ"
   },
   "source": [
    "We can also pass a list of layers when creating a Sequential model:\n",
    "\n",
    "```\n",
    "model = keras.models.Sequential([\n",
    "                                 keras.layers.Flatten(input_shape=[28,28]),\n",
    "                                 keras.layers.Dense(300, activation=\"relu\"),\n",
    "                                 keras.layers.Dense(100, activation=\"relu\"),\n",
    "                                 keras.layers.Dense(10, activation=\"softmax\")\n",
    "])\n",
    "```\n",
    "\n"
   ]
  },
  {
   "cell_type": "code",
   "execution_count": 9,
   "metadata": {
    "colab": {
     "base_uri": "https://localhost:8080/"
    },
    "id": "UjXkcfnnsdRZ",
    "outputId": "f29d8b42-94b9-4657-a4cd-90c5f59e5159"
   },
   "outputs": [
    {
     "name": "stdout",
     "output_type": "stream",
     "text": [
      "Model: \"sequential\"\n",
      "_________________________________________________________________\n",
      "Layer (type)                 Output Shape              Param #   \n",
      "=================================================================\n",
      "flatten (Flatten)            (None, 784)               0         \n",
      "_________________________________________________________________\n",
      "dense (Dense)                (None, 300)               235500    \n",
      "_________________________________________________________________\n",
      "dense_1 (Dense)              (None, 100)               30100     \n",
      "_________________________________________________________________\n",
      "dense_2 (Dense)              (None, 10)                1010      \n",
      "=================================================================\n",
      "Total params: 266,610\n",
      "Trainable params: 266,610\n",
      "Non-trainable params: 0\n",
      "_________________________________________________________________\n"
     ]
    }
   ],
   "source": [
    "model.summary()"
   ]
  },
  {
   "cell_type": "code",
   "execution_count": 10,
   "metadata": {
    "colab": {
     "base_uri": "https://localhost:8080/",
     "height": 533
    },
    "id": "oeLRDuOnsy-4",
    "outputId": "3fdd7692-b7e4-4686-fa83-359bb9e6cbd3"
   },
   "outputs": [
    {
     "name": "stdout",
     "output_type": "stream",
     "text": [
      "('Failed to import pydot. You must `pip install pydot` and install graphviz (https://graphviz.gitlab.io/download/), ', 'for `pydotprint` to work.')\n"
     ]
    }
   ],
   "source": [
    "keras.utils.plot_model(model, show_shapes=True, show_dtype=True, show_layer_names=True)"
   ]
  },
  {
   "cell_type": "code",
   "execution_count": 11,
   "metadata": {
    "id": "LLtMyp1ctYDU"
   },
   "outputs": [],
   "source": [
    "model.compile(loss =\"sparse_categorical_crossentropy\",\n",
    "            optimizer = keras.optimizers.SGD(learning_rate=0.03),\n",
    "              metrics= [\"accuracy\"]\n",
    "              )"
   ]
  },
  {
   "cell_type": "code",
   "execution_count": 12,
   "metadata": {
    "colab": {
     "base_uri": "https://localhost:8080/"
    },
    "id": "sL8D8D5WurRh",
    "outputId": "b5ddf5ad-cd08-42f7-d249-e017c554ade5"
   },
   "outputs": [
    {
     "name": "stderr",
     "output_type": "stream",
     "text": [
      "2022-01-01 04:54:24.606544: I tensorflow/compiler/mlir/mlir_graph_optimization_pass.cc:116] None of the MLIR optimization passes are enabled (registered 2)\n",
      "2022-01-01 04:54:24.613870: I tensorflow/core/platform/profile_utils/cpu_utils.cc:112] CPU Frequency: 2499995000 Hz\n"
     ]
    },
    {
     "name": "stdout",
     "output_type": "stream",
     "text": [
      "Epoch 1/30\n",
      "1719/1719 [==============================] - 4s 2ms/step - loss: 0.7992 - accuracy: 0.7293 - val_loss: 0.4647 - val_accuracy: 0.8356\n",
      "Epoch 2/30\n",
      "1719/1719 [==============================] - 3s 2ms/step - loss: 0.4384 - accuracy: 0.8444 - val_loss: 0.3829 - val_accuracy: 0.8656\n",
      "Epoch 3/30\n",
      "1719/1719 [==============================] - 3s 2ms/step - loss: 0.3894 - accuracy: 0.8606 - val_loss: 0.3779 - val_accuracy: 0.8650\n",
      "Epoch 4/30\n",
      "1719/1719 [==============================] - 3s 2ms/step - loss: 0.3496 - accuracy: 0.8755 - val_loss: 0.3888 - val_accuracy: 0.8562\n",
      "Epoch 5/30\n",
      "1719/1719 [==============================] - 3s 2ms/step - loss: 0.3391 - accuracy: 0.8769 - val_loss: 0.3565 - val_accuracy: 0.8732\n",
      "Epoch 6/30\n",
      "1719/1719 [==============================] - 3s 2ms/step - loss: 0.3187 - accuracy: 0.8828 - val_loss: 0.3263 - val_accuracy: 0.8846\n",
      "Epoch 7/30\n",
      "1719/1719 [==============================] - 3s 2ms/step - loss: 0.3039 - accuracy: 0.8883 - val_loss: 0.3424 - val_accuracy: 0.8772\n",
      "Epoch 8/30\n",
      "1719/1719 [==============================] - 3s 2ms/step - loss: 0.2926 - accuracy: 0.8920 - val_loss: 0.3165 - val_accuracy: 0.8874\n",
      "Epoch 9/30\n",
      "1719/1719 [==============================] - 3s 2ms/step - loss: 0.2795 - accuracy: 0.8977 - val_loss: 0.3111 - val_accuracy: 0.8892\n",
      "Epoch 10/30\n",
      "1719/1719 [==============================] - 3s 2ms/step - loss: 0.2681 - accuracy: 0.9006 - val_loss: 0.3240 - val_accuracy: 0.8824\n",
      "Epoch 11/30\n",
      "1719/1719 [==============================] - 3s 2ms/step - loss: 0.2617 - accuracy: 0.9019 - val_loss: 0.2988 - val_accuracy: 0.8888\n",
      "Epoch 12/30\n",
      "1719/1719 [==============================] - 3s 2ms/step - loss: 0.2500 - accuracy: 0.9080 - val_loss: 0.2916 - val_accuracy: 0.8942\n",
      "Epoch 13/30\n",
      "1719/1719 [==============================] - 3s 2ms/step - loss: 0.2505 - accuracy: 0.9076 - val_loss: 0.3027 - val_accuracy: 0.8922\n",
      "Epoch 14/30\n",
      "1719/1719 [==============================] - 3s 2ms/step - loss: 0.2454 - accuracy: 0.9103 - val_loss: 0.3002 - val_accuracy: 0.8932\n",
      "Epoch 15/30\n",
      "1719/1719 [==============================] - 3s 2ms/step - loss: 0.2345 - accuracy: 0.9130 - val_loss: 0.3043 - val_accuracy: 0.8888\n",
      "Epoch 16/30\n",
      "1719/1719 [==============================] - 3s 2ms/step - loss: 0.2227 - accuracy: 0.9176 - val_loss: 0.3095 - val_accuracy: 0.8912\n",
      "Epoch 17/30\n",
      "1719/1719 [==============================] - 3s 2ms/step - loss: 0.2159 - accuracy: 0.9196 - val_loss: 0.2885 - val_accuracy: 0.8966\n",
      "Epoch 18/30\n",
      "1719/1719 [==============================] - 3s 2ms/step - loss: 0.2136 - accuracy: 0.9216 - val_loss: 0.2869 - val_accuracy: 0.8984\n",
      "Epoch 19/30\n",
      "1719/1719 [==============================] - 3s 2ms/step - loss: 0.2066 - accuracy: 0.9232 - val_loss: 0.2836 - val_accuracy: 0.9006\n",
      "Epoch 20/30\n",
      "1719/1719 [==============================] - 3s 2ms/step - loss: 0.2020 - accuracy: 0.9257 - val_loss: 0.2910 - val_accuracy: 0.9002\n",
      "Epoch 21/30\n",
      "1719/1719 [==============================] - 3s 2ms/step - loss: 0.2012 - accuracy: 0.9281 - val_loss: 0.2825 - val_accuracy: 0.8990\n",
      "Epoch 22/30\n",
      "1719/1719 [==============================] - 3s 2ms/step - loss: 0.1914 - accuracy: 0.9289 - val_loss: 0.3041 - val_accuracy: 0.8900\n",
      "Epoch 23/30\n",
      "1719/1719 [==============================] - 3s 2ms/step - loss: 0.1901 - accuracy: 0.9299 - val_loss: 0.3024 - val_accuracy: 0.8946\n",
      "Epoch 24/30\n",
      "1719/1719 [==============================] - 3s 2ms/step - loss: 0.1823 - accuracy: 0.9314 - val_loss: 0.2912 - val_accuracy: 0.8950\n",
      "Epoch 25/30\n",
      "1719/1719 [==============================] - 3s 2ms/step - loss: 0.1813 - accuracy: 0.9334 - val_loss: 0.3003 - val_accuracy: 0.8948\n",
      "Epoch 26/30\n",
      "1719/1719 [==============================] - 3s 2ms/step - loss: 0.1750 - accuracy: 0.9350 - val_loss: 0.2935 - val_accuracy: 0.8980\n",
      "Epoch 27/30\n",
      "1719/1719 [==============================] - 3s 2ms/step - loss: 0.1683 - accuracy: 0.9377 - val_loss: 0.2843 - val_accuracy: 0.9000\n",
      "Epoch 28/30\n",
      "1719/1719 [==============================] - 3s 2ms/step - loss: 0.1634 - accuracy: 0.9398 - val_loss: 0.3073 - val_accuracy: 0.8966\n",
      "Epoch 29/30\n",
      "1719/1719 [==============================] - 3s 2ms/step - loss: 0.1591 - accuracy: 0.9429 - val_loss: 0.2972 - val_accuracy: 0.9016\n",
      "Epoch 30/30\n",
      "1719/1719 [==============================] - 3s 2ms/step - loss: 0.1568 - accuracy: 0.9418 - val_loss: 0.3043 - val_accuracy: 0.9000\n"
     ]
    }
   ],
   "source": [
    "history = model.fit(X_train, y_train, epochs=30, validation_data=(X_valid, y_valid))"
   ]
  },
  {
   "cell_type": "code",
   "execution_count": 13,
   "metadata": {
    "colab": {
     "base_uri": "https://localhost:8080/",
     "height": 342
    },
    "id": "7lG2R9LTvr0q",
    "outputId": "a4c922c8-ab3e-4f8d-8237-6941b0285da9"
   },
   "outputs": [
    {
     "data": {
      "text/plain": [
       "(0.0, 1.0)"
      ]
     },
     "execution_count": 13,
     "metadata": {},
     "output_type": "execute_result"
    },
    {
     "data": {
      "image/png": "[encoded data removed]",
      "text/plain": [
       "<Figure size 576x360 with 1 Axes>"
      ]
     },
     "metadata": {
      "needs_background": "light"
     },
     "output_type": "display_data"
    }
   ],
   "source": [
    "import pandas as pd\n",
    "import matplotlib.pyplot as plt\n",
    "\n",
    "pd.DataFrame(history.history).plot(figsize=(8, 5))\n",
    "plt.grid(True)\n",
    "plt.gca().set_ylim(0, 1)"
   ]
  },
  {
   "cell_type": "code",
   "execution_count": 14,
   "metadata": {
    "colab": {
     "base_uri": "https://localhost:8080/"
    },
    "id": "R1ZCLZPvBt-T",
    "outputId": "1d7f9897-3168-4f39-db99-f89f9b7e0531"
   },
   "outputs": [
    {
     "name": "stdout",
     "output_type": "stream",
     "text": [
      "313/313 [==============================] - 0s 1ms/step - loss: 0.3441 - accuracy: 0.8885\n"
     ]
    },
    {
     "data": {
      "text/plain": [
       "[0.34407684206962585, 0.8884999752044678]"
      ]
     },
     "execution_count": 14,
     "metadata": {},
     "output_type": "execute_result"
    }
   ],
   "source": [
    "model.evaluate(X_test, y_test)"
   ]
  },
  {
   "cell_type": "code",
   "execution_count": 15,
   "metadata": {
    "colab": {
     "base_uri": "https://localhost:8080/"
    },
    "id": "m6ISo51cKIXJ",
    "outputId": "00f06750-740f-4ae0-ce04-e135def4a819"
   },
   "outputs": [
    {
     "data": {
      "text/plain": [
       "array([[0.  , 0.  , 0.  , 0.  , 0.  , 0.  , 0.  , 0.01, 0.  , 0.99],\n",
       "       [0.  , 0.  , 1.  , 0.  , 0.  , 0.  , 0.  , 0.  , 0.  , 0.  ],\n",
       "       [0.  , 1.  , 0.  , 0.  , 0.  , 0.  , 0.  , 0.  , 0.  , 0.  ]],\n",
       "      dtype=float32)"
      ]
     },
     "execution_count": 15,
     "metadata": {},
     "output_type": "execute_result"
    }
   ],
   "source": [
    "X_new = X_test[:3]\n",
    "y_proba = model.predict(X_new)\n",
    "y_proba.round(2)"
   ]
  },
  {
   "cell_type": "code",
   "execution_count": 16,
   "metadata": {
    "colab": {
     "base_uri": "https://localhost:8080/"
    },
    "id": "cWJUtZ3swTDD",
    "outputId": "c0d0472d-b5d9-40db-85d3-b41aadfceedd"
   },
   "outputs": [
    {
     "data": {
      "text/plain": [
       "array(['Ankle boot', 'Pullover', 'Trouser'], dtype='<U11')"
      ]
     },
     "execution_count": 16,
     "metadata": {},
     "output_type": "execute_result"
    }
   ],
   "source": [
    "y_pred = np.argmax(model.predict(X_new), axis = 1)\n",
    "class_names = [\"T-shirt/top\", \"Trouser\", \"Pullover\", \"Dress\", \"Coat\",\n",
    "               \"Sandal\", \"Shirt\", \"Sneaker\", \"Bag\", \"Ankle boot\"]\n",
    "\n",
    "np.array(class_names)[y_pred]"
   ]
  },
  {
   "cell_type": "code",
   "execution_count": 17,
   "metadata": {
    "colab": {
     "base_uri": "https://localhost:8080/"
    },
    "id": "PP0Ww8v5xiJN",
    "outputId": "044c8a96-d11f-4e2d-ba42-3de0d26a161e"
   },
   "outputs": [
    {
     "data": {
      "text/plain": [
       "array([9, 2, 1], dtype=uint8)"
      ]
     },
     "execution_count": 17,
     "metadata": {},
     "output_type": "execute_result"
    }
   ],
   "source": [
    "y_new = y_test[:3]\n",
    "y_new"
   ]
  },
  {
   "cell_type": "code",
   "execution_count": 18,
   "metadata": {
    "id": "TQwUXs8oyZqn"
   },
   "outputs": [],
   "source": [
    "from sklearn.datasets import fetch_california_housing\n",
    "from sklearn.model_selection import train_test_split\n",
    "from sklearn.preprocessing import StandardScaler\n",
    "\n",
    "housing = fetch_california_housing()\n",
    "\n",
    "X_train_full, X_test, y_train_full, y_test = train_test_split(housing.data, housing.target)\n",
    "X_train, X_valid, y_train, y_valid = train_test_split(X_train_full, y_train_full)\n",
    "\n",
    "scaler = StandardScaler()\n",
    "X_train = scaler.fit_transform(X_train)\n",
    "X_valid = scaler.transform(X_valid)\n",
    "X_test = scaler.transform(X_test)\n"
   ]
  },
  {
   "cell_type": "code",
   "execution_count": 19,
   "metadata": {
    "colab": {
     "base_uri": "https://localhost:8080/"
    },
    "id": "TZ0VKNIQzfli",
    "outputId": "82ae998b-2678-47d2-d017-8f062f97a202"
   },
   "outputs": [
    {
     "name": "stdout",
     "output_type": "stream",
     "text": [
      "Epoch 1/20\n",
      "363/363 [==============================] - 1s 1ms/step - loss: 1.7690 - val_loss: 0.5411\n",
      "Epoch 2/20\n",
      "363/363 [==============================] - 0s 853us/step - loss: 0.5448 - val_loss: 0.4809\n",
      "Epoch 3/20\n",
      "363/363 [==============================] - 0s 869us/step - loss: 0.4914 - val_loss: 0.4578\n",
      "Epoch 4/20\n",
      "363/363 [==============================] - 0s 854us/step - loss: 0.4705 - val_loss: 0.4561\n",
      "Epoch 5/20\n",
      "363/363 [==============================] - 0s 858us/step - loss: 0.4715 - val_loss: 0.4394\n",
      "Epoch 6/20\n",
      "363/363 [==============================] - 0s 851us/step - loss: 0.4467 - val_loss: 0.4304\n",
      "Epoch 7/20\n",
      "363/363 [==============================] - 0s 859us/step - loss: 0.4737 - val_loss: 0.4255\n",
      "Epoch 8/20\n",
      "363/363 [==============================] - 0s 874us/step - loss: 0.4545 - val_loss: 0.4228\n",
      "Epoch 9/20\n",
      "363/363 [==============================] - 0s 865us/step - loss: 0.4292 - val_loss: 0.4184\n",
      "Epoch 10/20\n",
      "363/363 [==============================] - 0s 868us/step - loss: 0.4248 - val_loss: 0.4124\n",
      "Epoch 11/20\n",
      "363/363 [==============================] - 0s 868us/step - loss: 0.4318 - val_loss: 0.4074\n",
      "Epoch 12/20\n",
      "363/363 [==============================] - 0s 865us/step - loss: 0.4240 - val_loss: 0.4068\n",
      "Epoch 13/20\n",
      "363/363 [==============================] - 0s 859us/step - loss: 0.4257 - val_loss: 0.4073\n",
      "Epoch 14/20\n",
      "363/363 [==============================] - 0s 873us/step - loss: 0.4140 - val_loss: 0.3975\n",
      "Epoch 15/20\n",
      "363/363 [==============================] - 0s 857us/step - loss: 0.4155 - val_loss: 0.3893\n",
      "Epoch 16/20\n",
      "363/363 [==============================] - 0s 865us/step - loss: 0.3928 - val_loss: 0.3864\n",
      "Epoch 17/20\n",
      "363/363 [==============================] - 0s 864us/step - loss: 0.3871 - val_loss: 0.3850\n",
      "Epoch 18/20\n",
      "363/363 [==============================] - 0s 862us/step - loss: 0.4042 - val_loss: 0.3856\n",
      "Epoch 19/20\n",
      "363/363 [==============================] - 0s 867us/step - loss: 0.3979 - val_loss: 0.3789\n",
      "Epoch 20/20\n",
      "363/363 [==============================] - 0s 865us/step - loss: 0.3857 - val_loss: 0.3760\n",
      "162/162 [==============================] - 0s 531us/step - loss: 0.3828\n"
     ]
    }
   ],
   "source": [
    "model = keras.models.Sequential([\n",
    "                                 keras.layers.Dense(30, activation=\"relu\", input_shape= X_train.shape[1:]),\n",
    "                                 keras.layers.Dense(1)\n",
    "])\n",
    "model.compile(loss = \"mean_squared_error\", optimizer=\"sgd\")\n",
    "history = model.fit(X_train, y_train, epochs = 20, validation_data=(X_valid, y_valid))\n",
    "mse_test = model.evaluate(X_test, y_test)\n",
    "X_new = X_test[:3]\n",
    "y_pred = model.predict(X_new)"
   ]
  },
  {
   "cell_type": "code",
   "execution_count": 20,
   "metadata": {
    "colab": {
     "base_uri": "https://localhost:8080/",
     "height": 286
    },
    "id": "m-FPnkHY5MFq",
    "outputId": "9b9d3135-3312-49fa-ad1b-19cebde128af"
   },
   "outputs": [
    {
     "data": {
      "text/plain": [
       "(0.0, 1.0)"
      ]
     },
     "execution_count": 20,
     "metadata": {},
     "output_type": "execute_result"
    },
    {
     "data": {
      "image/png": "[encoded data removed]",
      "text/plain": [
       "<Figure size 432x288 with 1 Axes>"
      ]
     },
     "metadata": {
      "needs_background": "light"
     },
     "output_type": "display_data"
    }
   ],
   "source": [
    "plt.plot(pd.DataFrame(history.history))\n",
    "plt.grid(True)\n",
    "plt.gca().set_ylim(0,1)"
   ]
  },
  {
   "cell_type": "raw",
   "metadata": {
    "id": "miyLXqwr1uen"
   },
   "source": [
    "from numpy.core.fromnumeric import shape\n",
    "input_ = keras.layers.Input(shape= X_train.shape[1:])\n",
    "hidden1 = keras.layers.Dense(30, activation=\"relu\")(input_)\n",
    "hidden2 = keras.layers.Dense(30, activation=\"relu\")(hidden1)\n",
    "Concatenate = keras.layers.Concatenate()([input_, hidden2])\n",
    "output = keras.layers.Dense(1)(Concatenate)"
   ]
  },
  {
   "cell_type": "raw",
   "metadata": {
    "id": "yBUvCthB26Ak"
   },
   "source": [
    "model = keras.Model(inputs = [input_], outputs = [output])"
   ]
  },
  {
   "cell_type": "raw",
   "metadata": {
    "id": "1QVTKWx73PZz"
   },
   "source": [
    "model.compile(optimizer=\"sgd\", loss=\"mean_squared_error\")"
   ]
  },
  {
   "cell_type": "raw",
   "metadata": {
    "colab": {
     "base_uri": "https://localhost:8080/"
    },
    "id": "CqDVwxqx4uKZ",
    "outputId": "6f729c29-a482-412f-c45c-9bbbda1bbec2"
   },
   "source": [
    "history = model.fit(X_train, y_train, epochs=20, validation_data=(X_valid, y_valid))"
   ]
  },
  {
   "cell_type": "raw",
   "metadata": {
    "id": "9GV81f0g5GUF"
   },
   "source": [
    "input_A = keras.layers.Input(shape=[5], name = \"wide input\")\n",
    "input_B = keras.layers.Input(shape=[6], name = \"deep input\")\n",
    "hidden1 = keras.layers.Dense(30, activation = \"relu\")(input_B)\n",
    "hidden2 = keras.layers.Dense(30, activation = \"relu\")(hidden1)\n",
    "Concat = keras.layers.concatenate([input_A, hidden2])\n",
    "output = keras.layers.Dense(1, name=\"output\")(Concat)\n",
    "model = keras.Model(inputs = [input_A, input_B], outputs = [output])"
   ]
  },
  {
   "cell_type": "raw",
   "metadata": {
    "id": "hKhZkoqa47Xf"
   },
   "source": [
    "model.compile(optimizer = keras.optimizers.SGD(learning_rate=1e-3), loss = \"mse\")"
   ]
  },
  {
   "cell_type": "raw",
   "metadata": {
    "id": "L-hm2Sok7d8f"
   },
   "source": [
    "X_train_A, X_train_B = X_train[:, :5], X_train[:, 2:]\n",
    "X_valid_A, X_valid_B = X_valid[:, :5], X_valid[:, 2:]\n",
    "X_test_A, X_test_B = X_test[:, :5], X_test[:, 2:]\n",
    "X_new_A, X_new_B = X_test_A[:3], X_test_B[:3]"
   ]
  },
  {
   "cell_type": "raw",
   "metadata": {
    "colab": {
     "base_uri": "https://localhost:8080/"
    },
    "id": "zNDGrlUv8IH5",
    "outputId": "5b2b719a-6a6a-43dc-e310-11fa3b12b449"
   },
   "source": [
    "history = model.fit((X_train_A, X_train_B), y_train, epochs=20,\n",
    "                    validation_data=((X_valid_A, X_valid_B), y_valid))\n",
    "mse_test = model.evaluate((X_test_A, X_test_B), y_test)\n",
    "y_pred = model.predict((X_new_A, X_new_B))"
   ]
  },
  {
   "cell_type": "raw",
   "metadata": {
    "colab": {
     "base_uri": "https://localhost:8080/",
     "height": 234
    },
    "id": "1QS_c72j8rew",
    "outputId": "27230f0d-88ce-4979-ec44-e1b086c96d51"
   },
   "source": [
    "class WideAndDeepModel(keras.Model):\n",
    "  def __init__(self, units=30, activation=\"relu\", **kwargs):\n",
    "      super().__init__(**kwargs)\n",
    "      self.hidden1 = keras.layers.Dense(units, activation=activation)\n",
    "      self.hidden2 = keras.layers.Dense(units, activation=activation)\n",
    "      self.main_output = keras.layers.Dense(1)\n",
    "      self.aux_output = keras.layers.Dense(1)\n",
    "\n",
    "  def call(self, inputs):\n",
    "    input_A, input_B = inputs\n",
    "    hidden1 = self.hidden1(input_A)\n",
    "    hidden2 = self.hidden2(input_B)\n",
    "    concat = keras.layers.concatenate([input_A, input_B])\n",
    "    main_output = self.main_output(concat)\n",
    "    aux_output = self.aux_output(hidden2)\n",
    "    return main_output, aux_output\n",
    "\n",
    "model = WideAndDeepModel()"
   ]
  },
  {
   "cell_type": "raw",
   "metadata": {
    "id": "wDGBS7nT3V3K"
   },
   "source": [
    "model.save(\"my_keras_model.h5\") #Save models. Only works with sequential & functional APIs but not subclass API\n",
    "model = keras.models.load_model(\"my_keras_model.h5\") #Load model. Only works with sequential & functional APIs but not subclass API"
   ]
  },
  {
   "cell_type": "markdown",
   "metadata": {},
   "source": [
    "## Callbacks\n",
    "\n",
    "Callbacks can be used as argument to fit() method to specify a list of objects that Keras will call at the start and end of training, at the start and end of each epoch, and even before and after processing a batch."
   ]
  },
  {
   "cell_type": "raw",
   "metadata": {},
   "source": [
    "checkpoint_cb = keras.callbacks.ModelCheckpoint(\"my_keras_model.h5\")\n",
    "history = model.fit(X_train_A , y_train, epochs=10, callbacks=[checkpoint_cb])"
   ]
  },
  {
   "cell_type": "markdown",
   "metadata": {},
   "source": [
    "We can also set save_best_only=True when creating ModelCheckpoint if using a validation set, so that it will save the model only when its performance on the validation set is the best so far. This way we don't need to worry about training for too long and overfitting the training set; simply restore the last model saved after training, and this will be the best model on the validation set.\n",
    "\n",
    "The following is a simple way to implement early stopping:"
   ]
  },
  {
   "cell_type": "code",
   "execution_count": 21,
   "metadata": {},
   "outputs": [
    {
     "name": "stdout",
     "output_type": "stream",
     "text": [
      "Epoch 1/30\n",
      "363/363 [==============================] - 0s 950us/step - loss: 0.3925 - val_loss: 0.3719\n",
      "Epoch 2/30\n",
      "363/363 [==============================] - 0s 888us/step - loss: 0.3923 - val_loss: 0.3761\n",
      "Epoch 3/30\n",
      "363/363 [==============================] - 0s 925us/step - loss: 0.3852 - val_loss: 0.3757\n",
      "Epoch 4/30\n",
      "363/363 [==============================] - 0s 868us/step - loss: 0.3956 - val_loss: 0.3830\n",
      "Epoch 5/30\n",
      "363/363 [==============================] - 0s 867us/step - loss: 0.3869 - val_loss: 0.3736\n",
      "Epoch 6/30\n",
      "363/363 [==============================] - 0s 866us/step - loss: 0.3813 - val_loss: 0.3687\n",
      "Epoch 7/30\n",
      "363/363 [==============================] - 0s 868us/step - loss: 0.3882 - val_loss: 0.3631\n",
      "Epoch 8/30\n",
      "363/363 [==============================] - 0s 860us/step - loss: 0.3782 - val_loss: 0.3696\n",
      "Epoch 9/30\n",
      "363/363 [==============================] - 0s 882us/step - loss: 0.3788 - val_loss: 0.3629\n",
      "Epoch 10/30\n",
      "363/363 [==============================] - 0s 876us/step - loss: 0.4794 - val_loss: 0.3671\n",
      "Epoch 11/30\n",
      "363/363 [==============================] - 0s 865us/step - loss: 0.3791 - val_loss: 0.3733\n",
      "Epoch 12/30\n",
      "363/363 [==============================] - 0s 864us/step - loss: 0.3779 - val_loss: 0.3613\n",
      "Epoch 13/30\n",
      "363/363 [==============================] - 0s 858us/step - loss: 0.3739 - val_loss: 0.3568\n",
      "Epoch 14/30\n",
      "363/363 [==============================] - 0s 873us/step - loss: 0.3715 - val_loss: 0.3615\n",
      "Epoch 15/30\n",
      "363/363 [==============================] - 0s 862us/step - loss: 0.3717 - val_loss: 0.3714\n",
      "Epoch 16/30\n",
      "363/363 [==============================] - 0s 855us/step - loss: 0.3708 - val_loss: 0.3718\n",
      "Epoch 17/30\n",
      "363/363 [==============================] - 0s 872us/step - loss: 0.3752 - val_loss: 0.3609\n",
      "Epoch 18/30\n",
      "363/363 [==============================] - 0s 864us/step - loss: 0.3739 - val_loss: 0.3641\n",
      "Epoch 19/30\n",
      "363/363 [==============================] - 0s 858us/step - loss: 0.3672 - val_loss: 0.3577\n",
      "Epoch 20/30\n",
      "363/363 [==============================] - 0s 870us/step - loss: 0.3658 - val_loss: 0.3552\n",
      "Epoch 21/30\n",
      "363/363 [==============================] - 0s 869us/step - loss: 0.3644 - val_loss: 0.3513\n",
      "Epoch 22/30\n",
      "363/363 [==============================] - 0s 858us/step - loss: 0.3614 - val_loss: 0.3521\n",
      "Epoch 23/30\n",
      "363/363 [==============================] - 0s 879us/step - loss: 0.3611 - val_loss: 0.3499\n",
      "Epoch 24/30\n",
      "363/363 [==============================] - 0s 861us/step - loss: 0.3592 - val_loss: 0.3505\n",
      "Epoch 25/30\n",
      "363/363 [==============================] - 0s 857us/step - loss: 0.3587 - val_loss: 0.3527\n",
      "Epoch 26/30\n",
      "363/363 [==============================] - 0s 854us/step - loss: 0.3569 - val_loss: 0.3492\n",
      "Epoch 27/30\n",
      "363/363 [==============================] - 0s 858us/step - loss: 0.3559 - val_loss: 0.3451\n",
      "Epoch 28/30\n",
      "363/363 [==============================] - 0s 875us/step - loss: 0.3565 - val_loss: 0.3459\n",
      "Epoch 29/30\n",
      "363/363 [==============================] - 0s 882us/step - loss: 0.3543 - val_loss: 0.3456\n",
      "Epoch 30/30\n",
      "363/363 [==============================] - 0s 873us/step - loss: 0.3555 - val_loss: 0.3453\n"
     ]
    }
   ],
   "source": [
    "checkpoint_cb = keras.callbacks.ModelCheckpoint(\"my_keras_model.h5\",\n",
    "                                               save_best_only=True)\n",
    "history = model.fit(X_train, y_train, epochs=30,\n",
    "                   validation_data=(X_valid, y_valid),\n",
    "                    callbacks=[checkpoint_cb])\n",
    "model = keras.models.load_model(\"my_keras_model.h5\")"
   ]
  },
  {
   "cell_type": "markdown",
   "metadata": {},
   "source": [
    "Another way to implement early stopping is to use the EarlyStopping callback. It will interrupt training when it measures no progress on the validation set for a number of epochs (defined by *patience* argument), and it will optionally roll back to the best model.\n",
    "\n",
    "We can implement both callbacks to save checkpoints of the model and interrupt training early when there is no more progress (to avoid wasting time and resources)."
   ]
  },
  {
   "cell_type": "code",
   "execution_count": 22,
   "metadata": {},
   "outputs": [
    {
     "name": "stdout",
     "output_type": "stream",
     "text": [
      "Epoch 1/100\n",
      "363/363 [==============================] - 0s 1ms/step - loss: 0.3555 - val_loss: 0.3568\n",
      "Epoch 2/100\n",
      "363/363 [==============================] - 0s 858us/step - loss: 0.3672 - val_loss: 0.3697\n",
      "Epoch 3/100\n",
      "363/363 [==============================] - 0s 858us/step - loss: 0.3529 - val_loss: 0.3490\n",
      "Epoch 4/100\n",
      "363/363 [==============================] - 0s 864us/step - loss: 0.3532 - val_loss: 0.3512\n",
      "Epoch 5/100\n",
      "363/363 [==============================] - 0s 873us/step - loss: 0.3545 - val_loss: 0.3541\n",
      "Epoch 6/100\n",
      "363/363 [==============================] - 0s 860us/step - loss: 0.3545 - val_loss: 0.3468\n",
      "Epoch 7/100\n",
      "363/363 [==============================] - 0s 864us/step - loss: 0.3500 - val_loss: 0.3431\n",
      "Epoch 8/100\n",
      "363/363 [==============================] - 0s 864us/step - loss: 0.3624 - val_loss: 0.3449\n",
      "Epoch 9/100\n",
      "363/363 [==============================] - 0s 856us/step - loss: 0.3508 - val_loss: 0.3528\n",
      "Epoch 10/100\n",
      "363/363 [==============================] - 0s 864us/step - loss: 0.3498 - val_loss: 0.3558\n",
      "Epoch 11/100\n",
      "363/363 [==============================] - 0s 876us/step - loss: 0.3476 - val_loss: 0.3415\n",
      "Epoch 12/100\n",
      "363/363 [==============================] - 0s 857us/step - loss: 0.3468 - val_loss: 0.3423\n",
      "Epoch 13/100\n",
      "363/363 [==============================] - 0s 871us/step - loss: 0.3512 - val_loss: 0.3441\n",
      "Epoch 14/100\n",
      "363/363 [==============================] - 0s 861us/step - loss: 0.3466 - val_loss: 0.3391\n",
      "Epoch 15/100\n",
      "363/363 [==============================] - 0s 864us/step - loss: 0.3446 - val_loss: 0.3350\n",
      "Epoch 16/100\n",
      "363/363 [==============================] - 0s 865us/step - loss: 0.3457 - val_loss: 0.3373\n",
      "Epoch 17/100\n",
      "363/363 [==============================] - 0s 855us/step - loss: 0.3423 - val_loss: 0.3324\n",
      "Epoch 18/100\n",
      "363/363 [==============================] - 0s 861us/step - loss: 0.3411 - val_loss: 0.3313\n",
      "Epoch 19/100\n",
      "363/363 [==============================] - 0s 884us/step - loss: 0.3424 - val_loss: 0.3327\n",
      "Epoch 20/100\n",
      "363/363 [==============================] - 0s 865us/step - loss: 0.3399 - val_loss: 0.3366\n",
      "Epoch 21/100\n",
      "363/363 [==============================] - 0s 859us/step - loss: 0.3430 - val_loss: 0.3357\n",
      "Epoch 22/100\n",
      "363/363 [==============================] - 0s 870us/step - loss: 0.3388 - val_loss: 0.3341\n",
      "Epoch 23/100\n",
      "363/363 [==============================] - 0s 864us/step - loss: 0.3394 - val_loss: 0.3344\n",
      "Epoch 24/100\n",
      "363/363 [==============================] - 0s 886us/step - loss: 0.3380 - val_loss: 0.3307\n",
      "Epoch 25/100\n",
      "363/363 [==============================] - 0s 857us/step - loss: 0.3377 - val_loss: 0.3307\n",
      "Epoch 26/100\n",
      "363/363 [==============================] - 0s 854us/step - loss: 0.3373 - val_loss: 0.3321\n",
      "Epoch 27/100\n",
      "363/363 [==============================] - 0s 859us/step - loss: 0.3364 - val_loss: 0.3356\n",
      "Epoch 28/100\n",
      "363/363 [==============================] - 0s 859us/step - loss: 0.3365 - val_loss: 0.3359\n",
      "Epoch 29/100\n",
      "363/363 [==============================] - 0s 860us/step - loss: 0.3355 - val_loss: 0.3287\n",
      "Epoch 30/100\n",
      "363/363 [==============================] - 0s 868us/step - loss: 0.3373 - val_loss: 0.3436\n",
      "Epoch 31/100\n",
      "363/363 [==============================] - 0s 860us/step - loss: 0.3375 - val_loss: 0.3253\n",
      "Epoch 32/100\n",
      "363/363 [==============================] - 0s 866us/step - loss: 0.3351 - val_loss: 0.3283\n",
      "Epoch 33/100\n",
      "363/363 [==============================] - 0s 854us/step - loss: 0.3370 - val_loss: 0.3320\n",
      "Epoch 34/100\n",
      "363/363 [==============================] - 0s 860us/step - loss: 0.3359 - val_loss: 0.3261\n",
      "Epoch 35/100\n",
      "363/363 [==============================] - 0s 856us/step - loss: 0.3338 - val_loss: 0.3253\n",
      "Epoch 36/100\n",
      "363/363 [==============================] - 0s 860us/step - loss: 0.3342 - val_loss: 0.3310\n",
      "Epoch 37/100\n",
      "363/363 [==============================] - 0s 871us/step - loss: 0.3340 - val_loss: 0.3275\n",
      "Epoch 38/100\n",
      "363/363 [==============================] - 0s 881us/step - loss: 0.3537 - val_loss: 0.3289\n",
      "Epoch 39/100\n",
      "363/363 [==============================] - 0s 855us/step - loss: 0.3387 - val_loss: 0.3282\n",
      "Epoch 40/100\n",
      "363/363 [==============================] - 0s 873us/step - loss: 0.3358 - val_loss: 0.3302\n",
      "Epoch 41/100\n",
      "363/363 [==============================] - 0s 858us/step - loss: 0.3333 - val_loss: 0.3402\n"
     ]
    }
   ],
   "source": [
    "early_stopping_cb = keras.callbacks.EarlyStopping(patience=10, \n",
    "                                                 restore_best_weights=True)\n",
    "history = model.fit(X_train, y_train, epochs=100, validation_data=(X_valid, y_valid),\n",
    "                   callbacks=[checkpoint_cb, early_stopping_cb])"
   ]
  },
  {
   "cell_type": "markdown",
   "metadata": {},
   "source": [
    "We can also write custom callbacks if we need more control.\n",
    "\n",
    "The following custom callback will display the ratio between validation loss and training loss during training, (e.g. to detect overfitting)."
   ]
  },
  {
   "cell_type": "code",
   "execution_count": 23,
   "metadata": {},
   "outputs": [],
   "source": [
    "class PrintValTrainRatioCallback(keras.callbacks.Callback):\n",
    "    def on_epoch_end(self, epoch, logs):\n",
    "        print(\"\\nval/train: {:.2f}\".format(logs[\"val_loss\"] / logs[\"loss\"]))"
   ]
  },
  {
   "cell_type": "markdown",
   "metadata": {},
   "source": [
    "Callbacks can be used during evaluation and predictions for debugging.\n",
    "\n",
    "* For evaluation, we should implement on_test_begin(), on_test_end(), on_test_batch_begin(), on_test_batch_end() (called by evaluate()).\n",
    "* For prediction, we should implement on_predict_begin(), on_predict_end(), on_predict_batch_begin(), on_predict_batch_end() (called by predict())."
   ]
  },
  {
   "cell_type": "markdown",
   "metadata": {},
   "source": [
    "## Tensorboard"
   ]
  },
  {
   "cell_type": "markdown",
   "metadata": {},
   "source": [
    "Tensorboard can be used for visualization to view learning curves during training, view learning curves between multiple runs, visualize computational graphs, analyse training statistics, view images generated by the model, visualize complex multidimensional data projected down to 3D, etc.\n",
    "\n",
    "To use it, the program must be modified to output the data we want to visualize to binary log files called *event files*. Each binary record is called a *summary*.\n",
    "The Tensorboard server will monitor the log directory, and will automatically pick up changes and update the visualizations, which allows us to visualize live data.\n",
    "In general, you want to point the Tensorboard server to a root log directory and configure the program so that it writes to a different subdirectory every time it runs. This will help to compare multiple runs without mixing things up."
   ]
  },
  {
   "cell_type": "code",
   "execution_count": 24,
   "metadata": {},
   "outputs": [],
   "source": [
    "import os\n",
    "root_logdir = os.path.join(os.curdir, \"my_logs\")\n",
    "\n",
    "def get_run_logdir():\n",
    "    import time\n",
    "    run_id = time.strftime(\"run_%Y_%m_%d-%H_%M_%S\")\n",
    "    return os.path.join(root_logdir, run_id)\n",
    "\n",
    "run_logdir = get_run_logdir()"
   ]
  },
  {
   "cell_type": "code",
   "execution_count": 25,
   "metadata": {},
   "outputs": [
    {
     "name": "stdout",
     "output_type": "stream",
     "text": [
      "Epoch 1/30\n",
      "197/363 [===============>..............] - ETA: 0s - loss: 0.3250"
     ]
    },
    {
     "name": "stderr",
     "output_type": "stream",
     "text": [
      "2022-01-01 04:56:28.061145: I tensorflow/core/profiler/lib/profiler_session.cc:136] Profiler session initializing.\n",
      "2022-01-01 04:56:28.061175: I tensorflow/core/profiler/lib/profiler_session.cc:155] Profiler session started.\n",
      "2022-01-01 04:56:28.061216: I tensorflow/core/profiler/lib/profiler_session.cc:172] Profiler session tear down.\n",
      "2022-01-01 04:56:28.103498: I tensorflow/core/profiler/lib/profiler_session.cc:136] Profiler session initializing.\n",
      "2022-01-01 04:56:28.103535: I tensorflow/core/profiler/lib/profiler_session.cc:155] Profiler session started.\n",
      "2022-01-01 04:56:28.106011: I tensorflow/core/profiler/lib/profiler_session.cc:71] Profiler session collecting data.\n",
      "2022-01-01 04:56:28.111608: I tensorflow/core/profiler/lib/profiler_session.cc:172] Profiler session tear down.\n",
      "2022-01-01 04:56:28.118243: I tensorflow/core/profiler/rpc/client/save_profile.cc:137] Creating directory: ./my_logs/run_2022_01_01-04_56_28/train/plugins/profile/2022_01_01_04_56_28\n",
      "2022-01-01 04:56:28.118750: I tensorflow/core/profiler/rpc/client/save_profile.cc:143] Dumped gzipped tool data for trace.json.gz to ./my_logs/run_2022_01_01-04_56_28/train/plugins/profile/2022_01_01_04_56_28/default.trace.json.gz\n",
      "2022-01-01 04:56:28.127677: I tensorflow/core/profiler/rpc/client/save_profile.cc:137] Creating directory: ./my_logs/run_2022_01_01-04_56_28/train/plugins/profile/2022_01_01_04_56_28\n",
      "2022-01-01 04:56:28.127777: I tensorflow/core/profiler/rpc/client/save_profile.cc:143] Dumped gzipped tool data for memory_profile.json.gz to ./my_logs/run_2022_01_01-04_56_28/train/plugins/profile/2022_01_01_04_56_28/default.memory_profile.json.gz\n",
      "2022-01-01 04:56:28.127915: I tensorflow/core/profiler/rpc/client/capture_profile.cc:251] Creating directory: ./my_logs/run_2022_01_01-04_56_28/train/plugins/profile/2022_01_01_04_56_28Dumped tool data for xplane.pb to ./my_logs/run_2022_01_01-04_56_28/train/plugins/profile/2022_01_01_04_56_28/default.xplane.pb\n",
      "Dumped tool data for overview_page.pb to ./my_logs/run_2022_01_01-04_56_28/train/plugins/profile/2022_01_01_04_56_28/default.overview_page.pb\n",
      "Dumped tool data for input_pipeline.pb to ./my_logs/run_2022_01_01-04_56_28/train/plugins/profile/2022_01_01_04_56_28/default.input_pipeline.pb\n",
      "Dumped tool data for tensorflow_stats.pb to ./my_logs/run_2022_01_01-04_56_28/train/plugins/profile/2022_01_01_04_56_28/default.tensorflow_stats.pb\n",
      "Dumped tool data for kernel_stats.pb to ./my_logs/run_2022_01_01-04_56_28/train/plugins/profile/2022_01_01_04_56_28/default.kernel_stats.pb\n",
      "\n"
     ]
    },
    {
     "name": "stdout",
     "output_type": "stream",
     "text": [
      "363/363 [==============================] - 0s 1ms/step - loss: 0.3333 - val_loss: 0.3310\n",
      "Epoch 2/30\n",
      "363/363 [==============================] - 0s 878us/step - loss: 0.3339 - val_loss: 0.3238\n",
      "Epoch 3/30\n",
      "363/363 [==============================] - 0s 884us/step - loss: 0.3335 - val_loss: 0.3412\n",
      "Epoch 4/30\n",
      "363/363 [==============================] - 0s 855us/step - loss: 0.3346 - val_loss: 0.3247\n",
      "Epoch 5/30\n",
      "363/363 [==============================] - 0s 872us/step - loss: 0.3351 - val_loss: 0.3469\n",
      "Epoch 6/30\n",
      "363/363 [==============================] - 0s 854us/step - loss: 0.3472 - val_loss: 0.3281\n",
      "Epoch 7/30\n",
      "363/363 [==============================] - 0s 866us/step - loss: 0.3328 - val_loss: 0.3233\n",
      "Epoch 8/30\n",
      "363/363 [==============================] - 0s 874us/step - loss: 0.3319 - val_loss: 0.3351\n",
      "Epoch 9/30\n",
      "363/363 [==============================] - 0s 860us/step - loss: 0.3315 - val_loss: 0.3277\n",
      "Epoch 10/30\n",
      "363/363 [==============================] - 0s 861us/step - loss: 0.3310 - val_loss: 0.3265\n",
      "Epoch 11/30\n",
      "363/363 [==============================] - 0s 862us/step - loss: 0.3354 - val_loss: 0.3218\n",
      "Epoch 12/30\n",
      "363/363 [==============================] - 0s 855us/step - loss: 0.3323 - val_loss: 0.3224\n",
      "Epoch 13/30\n",
      "363/363 [==============================] - 0s 858us/step - loss: 0.3316 - val_loss: 0.3209\n",
      "Epoch 14/30\n",
      "363/363 [==============================] - 0s 871us/step - loss: 0.3293 - val_loss: 0.3215\n",
      "Epoch 15/30\n",
      "363/363 [==============================] - 0s 888us/step - loss: 0.3307 - val_loss: 0.3344\n",
      "Epoch 16/30\n",
      "363/363 [==============================] - 0s 867us/step - loss: 0.3311 - val_loss: 0.3246\n",
      "Epoch 17/30\n",
      "363/363 [==============================] - 0s 864us/step - loss: 0.3281 - val_loss: 0.3224\n",
      "Epoch 18/30\n",
      "363/363 [==============================] - 0s 869us/step - loss: 0.3294 - val_loss: 0.3222\n",
      "Epoch 19/30\n",
      "363/363 [==============================] - 0s 866us/step - loss: 0.3275 - val_loss: 0.3224\n",
      "Epoch 20/30\n",
      "363/363 [==============================] - 0s 877us/step - loss: 0.3268 - val_loss: 0.3214\n",
      "Epoch 21/30\n",
      "363/363 [==============================] - 0s 872us/step - loss: 0.3290 - val_loss: 0.3191\n",
      "Epoch 22/30\n",
      "363/363 [==============================] - 0s 866us/step - loss: 0.3337 - val_loss: 0.3404\n",
      "Epoch 23/30\n",
      "363/363 [==============================] - 0s 866us/step - loss: 0.3370 - val_loss: 0.3218\n",
      "Epoch 24/30\n",
      "363/363 [==============================] - 0s 861us/step - loss: 0.5436 - val_loss: 0.3301\n",
      "Epoch 25/30\n",
      "363/363 [==============================] - 0s 874us/step - loss: 0.3361 - val_loss: 0.3227\n",
      "Epoch 26/30\n",
      "363/363 [==============================] - 0s 882us/step - loss: 0.3312 - val_loss: 0.3235\n",
      "Epoch 27/30\n",
      "363/363 [==============================] - 0s 877us/step - loss: 0.3282 - val_loss: 0.3230\n",
      "Epoch 28/30\n",
      "363/363 [==============================] - 0s 881us/step - loss: 0.3285 - val_loss: 0.3221\n",
      "Epoch 29/30\n",
      "363/363 [==============================] - 0s 867us/step - loss: 0.3270 - val_loss: 0.3192\n",
      "Epoch 30/30\n",
      "363/363 [==============================] - 0s 868us/step - loss: 0.3274 - val_loss: 0.3227\n"
     ]
    }
   ],
   "source": [
    "tensorboard_cb = keras.callbacks.TensorBoard(run_logdir)\n",
    "history = model.fit(X_train, y_train, epochs=30, \n",
    "                    validation_data=(X_valid, y_valid),\n",
    "                   callbacks=[tensorboard_cb])"
   ]
  },
  {
   "cell_type": "code",
   "execution_count": 26,
   "metadata": {},
   "outputs": [],
   "source": [
    "%load_ext tensorboard"
   ]
  },
  {
   "cell_type": "code",
   "execution_count": 27,
   "metadata": {},
   "outputs": [
    {
     "data": {
      "text/html": [
       "\n",
       "      <iframe id=\"tensorboard-frame-501824846c5479ad\" width=\"100%\" height=\"800\" frameborder=\"0\">\n",
       "      </iframe>\n",
       "      <script>\n",
       "        (function() {\n",
       "          const frame = document.getElementById(\"tensorboard-frame-501824846c5479ad\");\n",
       "          const url = new URL(\"/\", window.location);\n",
       "          const port = 6006;\n",
       "          if (port) {\n",
       "            url.port = port;\n",
       "          }\n",
       "          frame.src = url;\n",
       "        })();\n",
       "      </script>\n",
       "    "
      ],
      "text/plain": [
       "<IPython.core.display.HTML object>"
      ]
     },
     "metadata": {},
     "output_type": "display_data"
    }
   ],
   "source": [
    "%tensorboard --logdir=./my_logs --port=6006 --bind_all"
   ]
  },
  {
   "cell_type": "markdown",
   "metadata": {},
   "source": [
    "## Fine tuning NN hyperparameters\n",
    "\n",
    "We can use GridSearchCV or RandomizedSearchCV to find the best possible combinations of hyperparameters.\n",
    "\n",
    "To do this, the first step is to create a function that will build and compile a keras model, given a set of hyperparameters:"
   ]
  },
  {
   "cell_type": "code",
   "execution_count": 28,
   "metadata": {},
   "outputs": [],
   "source": [
    "def build_model(n_hidden=1, n_neurons=30, learning_rate=3e-3, input_shape=[8]):\n",
    "    model = keras.models.Sequential()\n",
    "    model.add(keras.layers.InputLayer(input_shape=input_shape))\n",
    "    for layer in range(n_hidden):\n",
    "        model.add(keras.layers.Dense(n_neurons, activation=\"relu\"))\n",
    "    model.add(keras.layers.Dense(1))\n",
    "    optimizer = keras.optimizers.SGD(lr=learning_rate)\n",
    "    model.compile(loss=\"mse\", optimizer=optimizer)\n",
    "    return model"
   ]
  },
  {
   "cell_type": "code",
   "execution_count": 29,
   "metadata": {},
   "outputs": [],
   "source": [
    "keras_reg = keras.wrappers.scikit_learn.KerasRegressor(build_model)"
   ]
  },
  {
   "cell_type": "code",
   "execution_count": 30,
   "metadata": {},
   "outputs": [
    {
     "name": "stdout",
     "output_type": "stream",
     "text": [
      "Epoch 1/100\n",
      "363/363 [==============================] - 1s 1ms/step - loss: 2.3716 - val_loss: 0.6760\n",
      "Epoch 2/100\n",
      "363/363 [==============================] - 0s 879us/step - loss: 0.6969 - val_loss: 0.5837\n",
      "Epoch 3/100\n",
      "363/363 [==============================] - 0s 881us/step - loss: 0.5979 - val_loss: 0.5414\n",
      "Epoch 4/100\n",
      "363/363 [==============================] - 0s 866us/step - loss: 0.5364 - val_loss: 0.5116\n",
      "Epoch 5/100\n",
      "363/363 [==============================] - 0s 878us/step - loss: 0.5230 - val_loss: 0.4935\n",
      "Epoch 6/100\n",
      "363/363 [==============================] - 0s 875us/step - loss: 0.5034 - val_loss: 0.4757\n",
      "Epoch 7/100\n",
      "363/363 [==============================] - 0s 875us/step - loss: 0.4837 - val_loss: 0.4664\n",
      "Epoch 8/100\n",
      "363/363 [==============================] - 0s 864us/step - loss: 0.4732 - val_loss: 0.4606\n",
      "Epoch 9/100\n",
      "363/363 [==============================] - 0s 869us/step - loss: 0.4583 - val_loss: 0.4519\n",
      "Epoch 10/100\n",
      "363/363 [==============================] - 0s 866us/step - loss: 0.4851 - val_loss: 0.4476\n",
      "Epoch 11/100\n",
      "363/363 [==============================] - 0s 867us/step - loss: 0.4575 - val_loss: 0.4425\n",
      "Epoch 12/100\n",
      "363/363 [==============================] - 0s 878us/step - loss: 0.4626 - val_loss: 0.4377\n",
      "Epoch 13/100\n",
      "363/363 [==============================] - 0s 869us/step - loss: 0.4538 - val_loss: 0.4351\n",
      "Epoch 14/100\n",
      "363/363 [==============================] - 0s 856us/step - loss: 0.4376 - val_loss: 0.4312\n",
      "Epoch 15/100\n",
      "363/363 [==============================] - 0s 860us/step - loss: 0.4383 - val_loss: 0.4332\n",
      "Epoch 16/100\n",
      "363/363 [==============================] - 0s 858us/step - loss: 0.4525 - val_loss: 0.4262\n",
      "Epoch 17/100\n",
      "363/363 [==============================] - 0s 873us/step - loss: 0.4366 - val_loss: 0.4232\n",
      "Epoch 18/100\n",
      "363/363 [==============================] - 0s 875us/step - loss: 0.4353 - val_loss: 0.4200\n",
      "Epoch 19/100\n",
      "363/363 [==============================] - 0s 863us/step - loss: 0.4388 - val_loss: 0.4178\n",
      "Epoch 20/100\n",
      "363/363 [==============================] - 0s 856us/step - loss: 0.4489 - val_loss: 0.4163\n",
      "Epoch 21/100\n",
      "363/363 [==============================] - 0s 875us/step - loss: 0.4185 - val_loss: 0.4131\n",
      "Epoch 22/100\n",
      "363/363 [==============================] - 0s 869us/step - loss: 0.4293 - val_loss: 0.4106\n",
      "Epoch 23/100\n",
      "363/363 [==============================] - 0s 871us/step - loss: 0.4199 - val_loss: 0.4100\n",
      "Epoch 24/100\n",
      "363/363 [==============================] - 0s 863us/step - loss: 0.4391 - val_loss: 0.4075\n",
      "Epoch 25/100\n",
      "363/363 [==============================] - 0s 869us/step - loss: 0.4266 - val_loss: 0.4054\n",
      "Epoch 26/100\n",
      "363/363 [==============================] - 0s 870us/step - loss: 0.4197 - val_loss: 0.4041\n",
      "Epoch 27/100\n",
      "363/363 [==============================] - 0s 866us/step - loss: 0.4181 - val_loss: 0.4034\n",
      "Epoch 28/100\n",
      "363/363 [==============================] - 0s 864us/step - loss: 0.4142 - val_loss: 0.4006\n",
      "Epoch 29/100\n",
      "363/363 [==============================] - 0s 875us/step - loss: 0.4053 - val_loss: 0.4014\n",
      "Epoch 30/100\n",
      "363/363 [==============================] - 0s 881us/step - loss: 0.3973 - val_loss: 0.3975\n",
      "Epoch 31/100\n",
      "363/363 [==============================] - 0s 872us/step - loss: 0.4077 - val_loss: 0.3968\n",
      "Epoch 32/100\n",
      "363/363 [==============================] - 0s 878us/step - loss: 0.4158 - val_loss: 0.3947\n",
      "Epoch 33/100\n",
      "363/363 [==============================] - 0s 998us/step - loss: 0.4169 - val_loss: 0.3936\n",
      "Epoch 34/100\n",
      "363/363 [==============================] - 0s 882us/step - loss: 0.4189 - val_loss: 0.3929\n",
      "Epoch 35/100\n",
      "363/363 [==============================] - 0s 895us/step - loss: 0.4033 - val_loss: 0.3937\n",
      "Epoch 36/100\n",
      "363/363 [==============================] - 0s 861us/step - loss: 0.3990 - val_loss: 0.3912\n",
      "Epoch 37/100\n",
      "363/363 [==============================] - 0s 873us/step - loss: 0.3964 - val_loss: 0.3892\n",
      "Epoch 38/100\n",
      "363/363 [==============================] - 0s 863us/step - loss: 0.3983 - val_loss: 0.3890\n",
      "Epoch 39/100\n",
      "363/363 [==============================] - 0s 869us/step - loss: 0.4068 - val_loss: 0.3886\n",
      "Epoch 40/100\n",
      "363/363 [==============================] - 0s 882us/step - loss: 0.3986 - val_loss: 0.3882\n",
      "Epoch 41/100\n",
      "363/363 [==============================] - 0s 882us/step - loss: 0.4143 - val_loss: 0.3852\n",
      "Epoch 42/100\n",
      "363/363 [==============================] - 0s 872us/step - loss: 0.3982 - val_loss: 0.3841\n",
      "Epoch 43/100\n",
      "363/363 [==============================] - 0s 876us/step - loss: 0.3938 - val_loss: 0.3847\n",
      "Epoch 44/100\n",
      "363/363 [==============================] - 0s 865us/step - loss: 0.4057 - val_loss: 0.3859\n",
      "Epoch 45/100\n",
      "363/363 [==============================] - 0s 867us/step - loss: 0.3978 - val_loss: 0.3835\n",
      "Epoch 46/100\n",
      "363/363 [==============================] - 0s 865us/step - loss: 0.4021 - val_loss: 0.3817\n",
      "Epoch 47/100\n",
      "363/363 [==============================] - 0s 871us/step - loss: 0.3963 - val_loss: 0.3798\n",
      "Epoch 48/100\n",
      "363/363 [==============================] - 0s 869us/step - loss: 0.3955 - val_loss: 0.3787\n",
      "Epoch 49/100\n",
      "363/363 [==============================] - 0s 871us/step - loss: 0.3926 - val_loss: 0.3780\n",
      "Epoch 50/100\n",
      "363/363 [==============================] - 0s 867us/step - loss: 0.4106 - val_loss: 0.3770\n",
      "Epoch 51/100\n",
      "363/363 [==============================] - 0s 863us/step - loss: 0.3948 - val_loss: 0.3759\n",
      "Epoch 52/100\n",
      "363/363 [==============================] - 0s 859us/step - loss: 0.3857 - val_loss: 0.3759\n",
      "Epoch 53/100\n",
      "363/363 [==============================] - 0s 866us/step - loss: 0.4112 - val_loss: 0.3755\n",
      "Epoch 54/100\n",
      "363/363 [==============================] - 0s 866us/step - loss: 0.3916 - val_loss: 0.3744\n",
      "Epoch 55/100\n",
      "363/363 [==============================] - 0s 869us/step - loss: 0.3906 - val_loss: 0.3816\n",
      "Epoch 56/100\n",
      "363/363 [==============================] - 0s 870us/step - loss: 0.3931 - val_loss: 0.3760\n",
      "Epoch 57/100\n",
      "363/363 [==============================] - 0s 865us/step - loss: 0.3792 - val_loss: 0.3730\n",
      "Epoch 58/100\n",
      "363/363 [==============================] - 0s 870us/step - loss: 0.4098 - val_loss: 0.3741\n",
      "Epoch 59/100\n",
      "363/363 [==============================] - 0s 862us/step - loss: 0.3715 - val_loss: 0.3706\n",
      "Epoch 60/100\n",
      "363/363 [==============================] - 0s 867us/step - loss: 0.3790 - val_loss: 0.3729\n",
      "Epoch 61/100\n",
      "363/363 [==============================] - 0s 874us/step - loss: 0.3686 - val_loss: 0.3708\n",
      "Epoch 62/100\n",
      "363/363 [==============================] - 0s 858us/step - loss: 0.3846 - val_loss: 0.3692\n",
      "Epoch 63/100\n",
      "363/363 [==============================] - 0s 880us/step - loss: 0.3810 - val_loss: 0.3951\n",
      "Epoch 64/100\n",
      "363/363 [==============================] - 0s 872us/step - loss: 0.4561 - val_loss: 0.3686\n",
      "Epoch 65/100\n",
      "363/363 [==============================] - 0s 867us/step - loss: 0.3817 - val_loss: 0.3691\n",
      "Epoch 66/100\n",
      "363/363 [==============================] - 0s 885us/step - loss: 0.3759 - val_loss: 0.3678\n",
      "Epoch 67/100\n",
      "363/363 [==============================] - 0s 873us/step - loss: 0.3785 - val_loss: 0.3670\n",
      "Epoch 68/100\n",
      "363/363 [==============================] - 0s 865us/step - loss: 0.3707 - val_loss: 0.3680\n",
      "Epoch 69/100\n",
      "363/363 [==============================] - 0s 874us/step - loss: 0.3882 - val_loss: 0.3677\n",
      "Epoch 70/100\n",
      "363/363 [==============================] - 0s 861us/step - loss: 0.3991 - val_loss: 0.3716\n",
      "Epoch 71/100\n",
      "363/363 [==============================] - 0s 873us/step - loss: 0.3828 - val_loss: 0.3644\n",
      "Epoch 72/100\n",
      "363/363 [==============================] - 0s 896us/step - loss: 0.3762 - val_loss: 0.3626\n",
      "Epoch 73/100\n",
      "363/363 [==============================] - 0s 908us/step - loss: 0.3713 - val_loss: 0.3638\n",
      "Epoch 74/100\n",
      "363/363 [==============================] - 0s 874us/step - loss: 0.3585 - val_loss: 0.3638\n",
      "Epoch 75/100\n",
      "363/363 [==============================] - 0s 869us/step - loss: 0.3873 - val_loss: 0.3626\n",
      "Epoch 76/100\n",
      "363/363 [==============================] - 0s 872us/step - loss: 0.3938 - val_loss: 0.3616\n",
      "Epoch 77/100\n",
      "363/363 [==============================] - 0s 860us/step - loss: 0.3773 - val_loss: 0.3614\n",
      "Epoch 78/100\n",
      "363/363 [==============================] - 0s 881us/step - loss: 0.3784 - val_loss: 0.3604\n",
      "Epoch 79/100\n",
      "363/363 [==============================] - 0s 879us/step - loss: 0.3730 - val_loss: 0.3608\n",
      "Epoch 80/100\n",
      "363/363 [==============================] - 0s 870us/step - loss: 0.3749 - val_loss: 0.3600\n",
      "Epoch 81/100\n",
      "363/363 [==============================] - 0s 869us/step - loss: 0.3571 - val_loss: 0.3592\n",
      "Epoch 82/100\n",
      "363/363 [==============================] - 0s 879us/step - loss: 0.3629 - val_loss: 0.3577\n",
      "Epoch 83/100\n",
      "363/363 [==============================] - 0s 868us/step - loss: 0.3498 - val_loss: 0.3594\n",
      "Epoch 84/100\n",
      "363/363 [==============================] - 0s 867us/step - loss: 0.3860 - val_loss: 0.3577\n",
      "Epoch 85/100\n",
      "363/363 [==============================] - 0s 866us/step - loss: 0.3661 - val_loss: 0.3567\n",
      "Epoch 86/100\n",
      "363/363 [==============================] - 0s 883us/step - loss: 0.3584 - val_loss: 0.3593\n",
      "Epoch 87/100\n",
      "363/363 [==============================] - 0s 869us/step - loss: 0.3493 - val_loss: 0.3551\n",
      "Epoch 88/100\n",
      "363/363 [==============================] - 0s 878us/step - loss: 0.3718 - val_loss: 0.3558\n",
      "Epoch 89/100\n",
      "363/363 [==============================] - 0s 867us/step - loss: 0.3603 - val_loss: 0.3542\n",
      "Epoch 90/100\n",
      "363/363 [==============================] - 0s 873us/step - loss: 0.3727 - val_loss: 0.3555\n",
      "Epoch 91/100\n",
      "363/363 [==============================] - 0s 871us/step - loss: 0.3628 - val_loss: 0.3602\n",
      "Epoch 92/100\n",
      "363/363 [==============================] - 0s 874us/step - loss: 0.3731 - val_loss: 0.3553\n",
      "Epoch 93/100\n",
      "363/363 [==============================] - 0s 864us/step - loss: 0.3538 - val_loss: 0.3523\n",
      "Epoch 94/100\n",
      "363/363 [==============================] - 0s 877us/step - loss: 0.3702 - val_loss: 0.3528\n",
      "Epoch 95/100\n",
      "363/363 [==============================] - 0s 868us/step - loss: 0.3541 - val_loss: 0.3519\n",
      "Epoch 96/100\n",
      "363/363 [==============================] - 0s 864us/step - loss: 0.3545 - val_loss: 0.3533\n",
      "Epoch 97/100\n",
      "363/363 [==============================] - 0s 874us/step - loss: 0.3599 - val_loss: 0.3597\n",
      "Epoch 98/100\n",
      "363/363 [==============================] - 0s 862us/step - loss: 0.3496 - val_loss: 0.3623\n",
      "Epoch 99/100\n",
      "363/363 [==============================] - 0s 862us/step - loss: 0.3613 - val_loss: 0.3525\n",
      "Epoch 100/100\n",
      "363/363 [==============================] - 0s 856us/step - loss: 0.3582 - val_loss: 0.3502\n",
      "162/162 [==============================] - 0s 543us/step - loss: 0.3513\n"
     ]
    }
   ],
   "source": [
    "keras_reg.fit(X_train, y_train, epochs=100, validation_data = (X_valid, y_valid),\n",
    "             callbacks=[keras.callbacks.EarlyStopping(patience=10)])\n",
    "mse_test = keras_reg.score(X_test, y_test)\n",
    "y_pred = keras_reg.predict(X_new)"
   ]
  },
  {
   "cell_type": "raw",
   "metadata": {},
   "source": [
    "from scipy.stats import reciprocal\n",
    "from sklearn.model_selection import RandomizedSearchCV\n",
    "\n",
    "param_distribs = {\n",
    "    \"n_hidden\" : [0, 1, 2, 3],\n",
    "    \"n_neurons\" : np.arange(1, 100),\n",
    "    \"learning_rate\" : reciprocal(3e-4, 3e-2),\n",
    "}\n",
    "\n",
    "rnd_search_cv = RandomizedSearchCV(keras_reg, param_distribs, n_iter=10, cv=3)\n",
    "rnd_search_cv.fit(X_train, y_train, epochs=100,\n",
    "                 validation_data = (X_valid, y_valid),\n",
    "                 callbacks = [keras.callbacks.EarlyStopping(patience=10)])"
   ]
  },
  {
   "cell_type": "markdown",
   "metadata": {},
   "source": [
    "In general, increasing the no. of layers instead of no. of neurons is more efficient.\n",
    "\n",
    "It's often simpler and more efficient to pick a model with more layers & neurons than required and use earlystopping and other regularization techniques to prevent overfitting."
   ]
  },
  {
   "cell_type": "markdown",
   "metadata": {},
   "source": [
    "### Learning rate\n",
    "\n",
    "Learning rate is the most important hyperparameter.\n",
    "\n",
    "One way to find a good learning rate is to train the model for a few hundred iterations, starting with a very low rate (ex. 10^-5) and gradually increasing to a very large value (ex. 10). This is done by multiplying the learning rate by a constant factor at each iteration (ex. by exp(log(10^6)/500) to go from 10^-5 to 10 in 500 iterations).\n",
    "\n",
    "We can then reinitialize the model and train it normally using this good learning rate.\n",
    "\n",
    "The optimal learning rate depends on other hyperparameters such as batch size. So if we modify any hyperparameter, we have to ensure that we update learning rate as well."
   ]
  },
  {
   "cell_type": "code",
   "execution_count": null,
   "metadata": {},
   "outputs": [],
   "source": []
  }
 ],
 "metadata": {
  "accelerator": "GPU",
  "colab": {
   "authorship_tag": "ABX9TyO+eOuRD1yq09pABu5mgLX+",
   "collapsed_sections": [],
   "include_colab_link": true,
   "name": "Intro to ANN with Keras .ipynb",
   "provenance": []
  },
  "kernelspec": {
   "display_name": "d2l:Python",
   "language": "python",
   "name": "conda-env-d2l-py"
  },
  "language_info": {
   "codemirror_mode": {
    "name": "ipython",
    "version": 3
   },
   "file_extension": ".py",
   "mimetype": "text/x-python",
   "name": "python",
   "nbconvert_exporter": "python",
   "pygments_lexer": "ipython3",
   "version": "3.9.9"
  }
 },
 "nbformat": 4,
 "nbformat_minor": 4
}
